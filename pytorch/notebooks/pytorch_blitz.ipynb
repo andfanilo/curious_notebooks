{
 "cells": [
  {
   "cell_type": "markdown",
   "metadata": {},
   "source": [
    "# What is PyTorch?\n",
    "\n",
    "It’s a Python based scientific computing package targeted at two sets of audiences:\n",
    "\n",
    "* A replacement for NumPy to use the power of GPUs\n",
    "* a deep learning research platform that provides maximum flexibility and speed##"
   ]
  },
  {
   "cell_type": "markdown",
   "metadata": {},
   "source": [
    "# Tensors\n",
    "\n",
    "Tensors are similar to NumPy’s ndarrays, with the addition being that Tensors can also be used on a GPU to accelerate computing."
   ]
  },
  {
   "cell_type": "code",
   "execution_count": 1,
   "metadata": {},
   "outputs": [],
   "source": [
    "from __future__ import print_function\n",
    "import torch"
   ]
  },
  {
   "cell_type": "code",
   "execution_count": 2,
   "metadata": {},
   "outputs": [
    {
     "name": "stdout",
     "output_type": "stream",
     "text": [
      "tensor([[0.0000, 0.0000, 0.0000],\n",
      "        [0.0000, 0.0000, 0.0000],\n",
      "        [0.0000, 0.0000, 0.0000],\n",
      "        [0.0000, 0.0000, 0.0000],\n",
      "        [0.0000, 0.0000, 0.0000]])\n"
     ]
    }
   ],
   "source": [
    "print(torch.empty(5, 3))"
   ]
  },
  {
   "cell_type": "code",
   "execution_count": 3,
   "metadata": {},
   "outputs": [
    {
     "name": "stdout",
     "output_type": "stream",
     "text": [
      "tensor([[0.8625, 0.2529, 0.5211],\n",
      "        [0.8635, 0.6421, 0.1744],\n",
      "        [0.9226, 0.6184, 0.1665],\n",
      "        [0.4976, 0.1892, 0.2390],\n",
      "        [0.9143, 0.7330, 0.0176]])\n"
     ]
    }
   ],
   "source": [
    "print(torch.rand(5, 3))"
   ]
  },
  {
   "cell_type": "code",
   "execution_count": 4,
   "metadata": {},
   "outputs": [
    {
     "name": "stdout",
     "output_type": "stream",
     "text": [
      "tensor([[0, 0, 0],\n",
      "        [0, 0, 0],\n",
      "        [0, 0, 0],\n",
      "        [0, 0, 0],\n",
      "        [0, 0, 0]])\n"
     ]
    }
   ],
   "source": [
    "print(torch.zeros(5, 3, dtype=torch.long))"
   ]
  },
  {
   "cell_type": "code",
   "execution_count": 5,
   "metadata": {},
   "outputs": [
    {
     "name": "stdout",
     "output_type": "stream",
     "text": [
      "tensor([[1.2477, 1.2342, 0.2303],\n",
      "        [0.1922, 0.9653, 1.1332],\n",
      "        [1.6768, 0.9445, 1.1281],\n",
      "        [0.7569, 1.5604, 0.6452],\n",
      "        [0.7973, 0.5371, 0.3075]])\n"
     ]
    }
   ],
   "source": [
    "x = torch.rand(5, 3)\n",
    "y = torch.rand(5, 3)\n",
    "print(x + y)"
   ]
  },
  {
   "cell_type": "code",
   "execution_count": 6,
   "metadata": {},
   "outputs": [
    {
     "data": {
      "text/plain": [
       "tensor([0.5648, 0.7831, 0.7525, 0.9529, 0.4549])"
      ]
     },
     "execution_count": 6,
     "metadata": {},
     "output_type": "execute_result"
    }
   ],
   "source": [
    "x[:, 1]"
   ]
  },
  {
   "cell_type": "code",
   "execution_count": 7,
   "metadata": {},
   "outputs": [
    {
     "data": {
      "text/plain": [
       "tensor([[0.6021, 0.5648, 0.1673],\n",
       "        [0.0946, 0.7831, 0.8641],\n",
       "        [0.8059, 0.7525, 0.9560],\n",
       "        [0.3911, 0.9529, 0.5922],\n",
       "        [0.1192, 0.4549, 0.2840]])"
      ]
     },
     "execution_count": 7,
     "metadata": {},
     "output_type": "execute_result"
    }
   ],
   "source": [
    "x"
   ]
  },
  {
   "cell_type": "markdown",
   "metadata": {},
   "source": [
    "## Autograd : automatic differentiation"
   ]
  },
  {
   "cell_type": "code",
   "execution_count": 8,
   "metadata": {},
   "outputs": [
    {
     "name": "stdout",
     "output_type": "stream",
     "text": [
      "tensor([[1., 1.],\n",
      "        [1., 1.]], requires_grad=True)\n"
     ]
    }
   ],
   "source": [
    "x = torch.ones(2, 2, requires_grad=True)\n",
    "print(x)"
   ]
  },
  {
   "cell_type": "code",
   "execution_count": 9,
   "metadata": {},
   "outputs": [
    {
     "name": "stdout",
     "output_type": "stream",
     "text": [
      "tensor([[3., 3.],\n",
      "        [3., 3.]], grad_fn=<AddBackward>)\n"
     ]
    }
   ],
   "source": [
    "y = x + 2\n",
    "print(y)"
   ]
  },
  {
   "cell_type": "code",
   "execution_count": 10,
   "metadata": {},
   "outputs": [
    {
     "name": "stdout",
     "output_type": "stream",
     "text": [
      "<AddBackward object at 0x00000000069FA828>\n"
     ]
    }
   ],
   "source": [
    "print(y.grad_fn)"
   ]
  },
  {
   "cell_type": "code",
   "execution_count": 11,
   "metadata": {},
   "outputs": [
    {
     "name": "stdout",
     "output_type": "stream",
     "text": [
      "tensor([[27., 27.],\n",
      "        [27., 27.]], grad_fn=<MulBackward>) tensor(27., grad_fn=<MeanBackward1>)\n"
     ]
    }
   ],
   "source": [
    "z = y * y * 3\n",
    "out = z.mean()\n",
    "print(z, out)"
   ]
  },
  {
   "cell_type": "code",
   "execution_count": 12,
   "metadata": {},
   "outputs": [],
   "source": [
    "out.backward()"
   ]
  },
  {
   "cell_type": "code",
   "execution_count": 13,
   "metadata": {},
   "outputs": [
    {
     "name": "stdout",
     "output_type": "stream",
     "text": [
      "tensor([[4.5000, 4.5000],\n",
      "        [4.5000, 4.5000]])\n"
     ]
    }
   ],
   "source": [
    "print(x.grad)"
   ]
  },
  {
   "cell_type": "markdown",
   "metadata": {},
   "source": [
    "## Linear regression, go"
   ]
  },
  {
   "cell_type": "code",
   "execution_count": 14,
   "metadata": {},
   "outputs": [],
   "source": [
    "import torch\n",
    "import torch.nn as nn\n",
    "import torch.nn.functional as F\n",
    "import torch.optim as optim\n",
    "import matplotlib.pyplot as plt"
   ]
  },
  {
   "cell_type": "code",
   "execution_count": 15,
   "metadata": {},
   "outputs": [],
   "source": [
    "x = torch.arange(-100, 100).float()\n",
    "y = 3 * x + 5 + 50 * torch.rand(200)"
   ]
  },
  {
   "cell_type": "code",
   "execution_count": 16,
   "metadata": {},
   "outputs": [
    {
     "data": {
      "text/plain": [
       "[<matplotlib.lines.Line2D at 0x8f1f128>]"
      ]
     },
     "execution_count": 16,
     "metadata": {},
     "output_type": "execute_result"
    },
    {
     "data": {
      "image/png": "[encoded data removed]",
      "text/plain": [
       "<Figure size 432x288 with 1 Axes>"
      ]
     },
     "metadata": {
      "needs_background": "light"
     },
     "output_type": "display_data"
    }
   ],
   "source": [
    "plt.plot(x.numpy(), y.numpy(), '+')"
   ]
  },
  {
   "cell_type": "code",
   "execution_count": 17,
   "metadata": {},
   "outputs": [],
   "source": [
    "class LinearRegressionModel(nn.Module):\n",
    "\n",
    "    def __init__(self):\n",
    "        super(LinearRegressionModel, self).__init__()\n",
    "        self.linear = nn.Linear(1, 1)\n",
    "\n",
    "    def forward(self, x):\n",
    "        # You just have to define the forward function, and the backward function (where gradients are computed) \n",
    "        # is automatically defined for you using autograd. You can use any of the Tensor operations in the forward function.\n",
    "        out = self.linear(x)\n",
    "        return out"
   ]
  },
  {
   "cell_type": "code",
   "execution_count": 18,
   "metadata": {},
   "outputs": [
    {
     "name": "stdout",
     "output_type": "stream",
     "text": [
      "LinearRegressionModel(\n",
      "  (linear): Linear(in_features=1, out_features=1, bias=True)\n",
      ")\n"
     ]
    }
   ],
   "source": [
    "model = LinearRegressionModel()\n",
    "print(model)"
   ]
  },
  {
   "cell_type": "code",
   "execution_count": 19,
   "metadata": {},
   "outputs": [
    {
     "data": {
      "text/plain": [
       "[Parameter containing:\n",
       " tensor([[-0.9755]], requires_grad=True), Parameter containing:\n",
       " tensor([-0.4806], requires_grad=True)]"
      ]
     },
     "execution_count": 19,
     "metadata": {},
     "output_type": "execute_result"
    }
   ],
   "source": [
    "# The learnable parameters of a model are returned by net.parameters()\n",
    "list(model.parameters())"
   ]
  },
  {
   "cell_type": "code",
   "execution_count": 20,
   "metadata": {},
   "outputs": [
    {
     "name": "stdout",
     "output_type": "stream",
     "text": [
      "epoch 0, loss 15041.0849609375, 2.2887091636657715.x + -0.5005911588668823, gradient w -13537.4140625 b -64.10334777832031\n",
      "epoch 10, loss 1292.812255859375, 2.9654762744903564.x + -0.4346308708190918, gradient w -0.23761528730392456 b -66.00230407714844\n",
      "epoch 20, loss 1288.464111328125, 2.9654974937438965.x + -0.3687010705471039, gradient w -0.009349584579467773 b -65.87045288085938\n",
      "epoch 30, loss 1284.133544921875, 2.9655072689056396.x + -0.30290305614471436, gradient w -0.00943213701248169 b -65.73884582519531\n",
      "epoch 40, loss 1279.81982421875, 2.965517044067383.x + -0.23723648488521576, gradient w -0.009965598583221436 b -65.60747528076172\n"
     ]
    },
    {
     "data": {
      "text/plain": [
       "[Parameter containing:\n",
       " tensor([[2.9655]], requires_grad=True), Parameter containing:\n",
       " tensor([-0.1782], requires_grad=True)]"
      ]
     },
     "execution_count": 20,
     "metadata": {},
     "output_type": "execute_result"
    }
   ],
   "source": [
    "model = LinearRegressionModel()\n",
    "criterion = nn.MSELoss()\n",
    "optimizer = optim.SGD(model.parameters(), lr=0.0001)\n",
    "                      \n",
    "for epoch in range(50):\n",
    "    # zero the parameter gradients from previous epoch\n",
    "    optimizer.zero_grad()\n",
    "    \n",
    "    # forward + backward + optimize\n",
    "    output = model(x.view(-1, 1))\n",
    "    loss = criterion(output, y.view(-1, 1))\n",
    "    loss.backward()    # accumulate gradients through backprop\n",
    "    optimizer.step()   # Does the update\n",
    "    if(epoch % 10 == 0):\n",
    "        print('epoch {}, loss {}, {}.x + {}, gradient w {} b {}'.format(\n",
    "            epoch, \n",
    "            loss.data.item(), \n",
    "            model.linear.weight.item(), \n",
    "            model.linear.bias.item(), \n",
    "            model.linear.weight.grad.item(), \n",
    "            model.linear.bias.grad.item()\n",
    "        ))\n",
    "    \n",
    "list(model.parameters())"
   ]
  },
  {
   "cell_type": "code",
   "execution_count": 21,
   "metadata": {
    "scrolled": true
   },
   "outputs": [
    {
     "data": {
      "text/plain": [
       "[<matplotlib.lines.Line2D at 0x8fc7b70>,\n",
       " <matplotlib.lines.Line2D at 0x8fc7c88>]"
      ]
     },
     "execution_count": 21,
     "metadata": {},
     "output_type": "execute_result"
    },
    {
     "data": {
      "image/png": "[encoded data removed]",
      "text/plain": [
       "<Figure size 432x288 with 1 Axes>"
      ]
     },
     "metadata": {
      "needs_background": "light"
     },
     "output_type": "display_data"
    }
   ],
   "source": [
    "plt.plot(x.numpy(), y.numpy(), '+', x.numpy(), model(x.view(-1, 1)).view(-1).detach().numpy(), 'r')"
   ]
  },
  {
   "cell_type": "markdown",
   "metadata": {},
   "source": [
    "## Let's try a square poly"
   ]
  },
  {
   "cell_type": "code",
   "execution_count": 22,
   "metadata": {},
   "outputs": [],
   "source": [
    "x = torch.arange(0, 10, 0.001)\n",
    "y = torch.pow(x, 2) + 10*torch.rand(10000)"
   ]
  },
  {
   "cell_type": "code",
   "execution_count": 23,
   "metadata": {},
   "outputs": [],
   "source": [
    "def make_features(x):\n",
    "    \"\"\"Builds features i.e. a matrix with columns [x, x^2].\"\"\"\n",
    "    x = x.unsqueeze(1)\n",
    "    return torch.cat([x ** i for i in range(1, 3)], 1)"
   ]
  },
  {
   "cell_type": "markdown",
   "metadata": {},
   "source": [
    "First, cheat by building a x^2 feature to input in the model"
   ]
  },
  {
   "cell_type": "code",
   "execution_count": 24,
   "metadata": {},
   "outputs": [
    {
     "data": {
      "text/plain": [
       "tensor([[ 0.0000,  0.0000],\n",
       "        [ 0.0010,  0.0000],\n",
       "        [ 0.0020,  0.0000],\n",
       "        ...,\n",
       "        [ 9.9970, 99.9400],\n",
       "        [ 9.9980, 99.9600],\n",
       "        [ 9.9990, 99.9800]])"
      ]
     },
     "execution_count": 24,
     "metadata": {},
     "output_type": "execute_result"
    }
   ],
   "source": [
    "make_features(x)"
   ]
  },
  {
   "cell_type": "code",
   "execution_count": 25,
   "metadata": {},
   "outputs": [],
   "source": [
    "class Net(nn.Module):\n",
    "\n",
    "    def __init__(self):\n",
    "        super(Net, self).__init__()\n",
    "        self.fc = nn.Linear(2, 1)\n",
    "\n",
    "    def forward(self, x):\n",
    "        x = self.fc(x)\n",
    "        return x"
   ]
  },
  {
   "cell_type": "code",
   "execution_count": 26,
   "metadata": {},
   "outputs": [
    {
     "name": "stdout",
     "output_type": "stream",
     "text": [
      "epoch 0, loss 4765.95654296875\n",
      "epoch 1000, loss 11.58499526977539\n",
      "epoch 2000, loss 10.718596458435059\n",
      "epoch 3000, loss 10.343769073486328\n",
      "epoch 4000, loss 10.158957481384277\n",
      "epoch 5000, loss 10.04851245880127\n",
      "epoch 6000, loss 9.96805191040039\n",
      "epoch 7000, loss 9.900506019592285\n",
      "epoch 8000, loss 9.839280128479004\n",
      "epoch 9000, loss 9.7817964553833\n",
      "epoch 10000, loss 9.72701644897461\n"
     ]
    },
    {
     "data": {
      "text/plain": [
       "[Parameter containing:\n",
       " tensor([[1.5000, 0.8723]], requires_grad=True), Parameter containing:\n",
       " tensor([1.4172], requires_grad=True)]"
      ]
     },
     "execution_count": 26,
     "metadata": {},
     "output_type": "execute_result"
    }
   ],
   "source": [
    "net = Net()\n",
    "criterion = nn.MSELoss()\n",
    "optimizer = optim.SGD(net.parameters(), lr=0.0001)\n",
    "                      \n",
    "for epoch in range(10001):\n",
    "    # zero the parameter gradients from previous epoch\n",
    "    optimizer.zero_grad()\n",
    "    \n",
    "    # forward + backward + optimize\n",
    "    output = net(make_features(x))\n",
    "    loss = criterion(output, y.view(-1, 1))\n",
    "    loss.backward()    # accumulate gradients through backprop\n",
    "    optimizer.step()   # Does the update\n",
    "    if(epoch % 1000 == 0):\n",
    "        print('epoch {}, loss {}'.format(epoch, loss.data.item()))\n",
    "    \n",
    "list(net.parameters())"
   ]
  },
  {
   "cell_type": "code",
   "execution_count": 27,
   "metadata": {},
   "outputs": [
    {
     "data": {
      "text/plain": [
       "[<matplotlib.lines.Line2D at 0x90402e8>,\n",
       " <matplotlib.lines.Line2D at 0x9040438>]"
      ]
     },
     "execution_count": 27,
     "metadata": {},
     "output_type": "execute_result"
    },
    {
     "data": {
      "image/png": "[encoded data removed]",
      "text/plain": [
       "<Figure size 432x288 with 1 Axes>"
      ]
     },
     "metadata": {
      "needs_background": "light"
     },
     "output_type": "display_data"
    }
   ],
   "source": [
    "plt.plot(x.numpy(), y.numpy(), '+', x.numpy(), net(make_features(x)).view(-1).detach().numpy(), 'r')"
   ]
  },
  {
   "cell_type": "markdown",
   "metadata": {},
   "source": [
    "Now try only with one input and multilayer net"
   ]
  },
  {
   "cell_type": "code",
   "execution_count": 28,
   "metadata": {},
   "outputs": [],
   "source": [
    "class MultiNet(nn.Module):\n",
    "\n",
    "    def __init__(self):\n",
    "        super(MultiNet, self).__init__()\n",
    "        self.fc1 = nn.Linear(1, 16)\n",
    "        self.fc2 = nn.Linear(16, 8)\n",
    "        self.fc3 = nn.Linear(8, 1)\n",
    "\n",
    "    def forward(self, x):\n",
    "        x = F.relu(self.fc1(x))\n",
    "        x = F.relu(self.fc2(x))\n",
    "        x = self.fc3(x)\n",
    "        return x"
   ]
  },
  {
   "cell_type": "code",
   "execution_count": 29,
   "metadata": {},
   "outputs": [
    {
     "name": "stdout",
     "output_type": "stream",
     "text": [
      "epoch 0, loss 2397.814208984375\n",
      "epoch 1000, loss 49.04350662231445\n",
      "epoch 2000, loss 20.247533798217773\n",
      "epoch 3000, loss 13.699862480163574\n",
      "epoch 4000, loss 12.075587272644043\n",
      "epoch 5000, loss 11.13798999786377\n",
      "epoch 6000, loss 10.417102813720703\n",
      "epoch 7000, loss 9.776984214782715\n",
      "epoch 8000, loss 9.284195899963379\n",
      "epoch 9000, loss 8.998805046081543\n",
      "epoch 10000, loss 8.824606895446777\n"
     ]
    }
   ],
   "source": [
    "mnet = MultiNet()\n",
    "criterion = nn.MSELoss()\n",
    "optimizer = optim.SGD(mnet.parameters(), lr=0.0001)\n",
    "                      \n",
    "for epoch in range(10001):\n",
    "    # zero the parameter gradients from previous epoch\n",
    "    optimizer.zero_grad()\n",
    "    \n",
    "    # forward + backward + optimize\n",
    "    output = mnet(x.view(-1, 1))\n",
    "    loss = criterion(output, y.view(-1, 1))\n",
    "    loss.backward()    # accumulate gradients through backprop\n",
    "    optimizer.step()   # Does the update\n",
    "    if(epoch % 1000 == 0):\n",
    "        print('epoch {}, loss {}'.format(epoch, loss.data.item()))\n",
    "    \n",
    "#list(mnet.parameters())"
   ]
  },
  {
   "cell_type": "code",
   "execution_count": 30,
   "metadata": {},
   "outputs": [
    {
     "data": {
      "text/plain": [
       "[<matplotlib.lines.Line2D at 0x94b1f60>,\n",
       " <matplotlib.lines.Line2D at 0x94ba0f0>]"
      ]
     },
     "execution_count": 30,
     "metadata": {},
     "output_type": "execute_result"
    },
    {
     "data": {
      "image/png": "[encoded data removed]",
      "text/plain": [
       "<Figure size 432x288 with 1 Axes>"
      ]
     },
     "metadata": {
      "needs_background": "light"
     },
     "output_type": "display_data"
    }
   ],
   "source": [
    "plt.plot(x.numpy(), y.numpy(), '+', x.numpy(), mnet(x.view(-1, 1)).view(-1).detach().numpy(), 'r')"
   ]
  },
  {
   "cell_type": "markdown",
   "metadata": {},
   "source": [
    "Both converge to the same loss, though the feature one converges faster"
   ]
  },
  {
   "cell_type": "markdown",
   "metadata": {},
   "source": [
    "## Let's try a sine function"
   ]
  },
  {
   "cell_type": "code",
   "execution_count": 31,
   "metadata": {},
   "outputs": [],
   "source": [
    "x = torch.arange(0, 10, 0.01)\n",
    "y = torch.sin(x) + 0.5*torch.rand(1000)"
   ]
  },
  {
   "cell_type": "code",
   "execution_count": 32,
   "metadata": {},
   "outputs": [
    {
     "data": {
      "text/plain": [
       "[<matplotlib.lines.Line2D at 0x951a128>]"
      ]
     },
     "execution_count": 32,
     "metadata": {},
     "output_type": "execute_result"
    },
    {
     "data": {
      "image/png": "[encoded data removed]",
      "text/plain": [
       "<Figure size 432x288 with 1 Axes>"
      ]
     },
     "metadata": {
      "needs_background": "light"
     },
     "output_type": "display_data"
    }
   ],
   "source": [
    "plt.plot(x.numpy(), y.numpy(), '+')"
   ]
  },
  {
   "cell_type": "code",
   "execution_count": 33,
   "metadata": {},
   "outputs": [],
   "source": [
    "class SinNet(nn.Module):\n",
    "\n",
    "    def __init__(self):\n",
    "        super(SinNet, self).__init__()\n",
    "        self.fc1 = nn.Linear(1, 64)\n",
    "        self.fc2 = nn.Linear(64, 32)\n",
    "        self.fc3 = nn.Linear(32, 1)\n",
    "\n",
    "    def forward(self, x):\n",
    "        x = F.relu(self.fc1(x))\n",
    "        x = F.relu(self.fc2(x))\n",
    "        x = self.fc3(x)\n",
    "        return x"
   ]
  },
  {
   "cell_type": "code",
   "execution_count": 34,
   "metadata": {},
   "outputs": [
    {
     "name": "stdout",
     "output_type": "stream",
     "text": [
      "epoch 0, loss 0.5501269698143005\n",
      "epoch 1000, loss 0.25346702337265015\n",
      "epoch 2000, loss 0.1394960731267929\n",
      "epoch 3000, loss 0.05946424975991249\n",
      "epoch 4000, loss 0.027527203783392906\n",
      "epoch 5000, loss 0.022066345438361168\n",
      "epoch 6000, loss 0.021339740604162216\n",
      "epoch 7000, loss 0.021238267421722412\n",
      "epoch 8000, loss 0.021192317828536034\n",
      "epoch 9000, loss 0.020872458815574646\n",
      "epoch 10000, loss 0.020823821425437927\n"
     ]
    }
   ],
   "source": [
    "snet = SinNet()\n",
    "criterion = nn.MSELoss()\n",
    "optimizer = optim.Adam(snet.parameters(), lr=0.0001)\n",
    "                      \n",
    "for epoch in range(10001):\n",
    "    # zero the parameter gradients from previous epoch\n",
    "    optimizer.zero_grad()\n",
    "    \n",
    "    # forward + backward + optimize\n",
    "    output = snet(x.view(-1, 1))\n",
    "    loss = criterion(output, y.view(-1, 1))\n",
    "    loss.backward()    # accumulate gradients through backprop\n",
    "    optimizer.step()   # Does the update\n",
    "    if(epoch % 1000 == 0):\n",
    "        print('epoch {}, loss {}'.format(epoch, loss.data.item()))"
   ]
  },
  {
   "cell_type": "code",
   "execution_count": 35,
   "metadata": {},
   "outputs": [
    {
     "data": {
      "text/plain": [
       "[<matplotlib.lines.Line2D at 0x957acc0>,\n",
       " <matplotlib.lines.Line2D at 0x957ae10>]"
      ]
     },
     "execution_count": 35,
     "metadata": {},
     "output_type": "execute_result"
    },
    {
     "data": {
      "image/png": "[encoded data removed]",
      "text/plain": [
       "<Figure size 432x288 with 1 Axes>"
      ]
     },
     "metadata": {
      "needs_background": "light"
     },
     "output_type": "display_data"
    }
   ],
   "source": [
    "plt.plot(x.numpy(), y.numpy(), '+', x.numpy(), snet(x.view(-1, 1)).view(-1).detach().numpy(), 'r')"
   ]
  },
  {
   "cell_type": "code",
   "execution_count": null,
   "metadata": {},
   "outputs": [],
   "source": []
  }
 ],
 "metadata": {
  "kernelspec": {
   "display_name": "Python 3",
   "language": "python",
   "name": "python3"
  },
  "language_info": {
   "codemirror_mode": {
    "name": "ipython",
    "version": 3
   },
   "file_extension": ".py",
   "mimetype": "text/x-python",
   "name": "python",
   "nbconvert_exporter": "python",
   "pygments_lexer": "ipython3",
   "version": "3.6.7"
  }
 },
 "nbformat": 4,
 "nbformat_minor": 2
}
