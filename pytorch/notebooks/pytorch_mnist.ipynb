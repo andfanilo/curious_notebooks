{
 "cells": [
  {
   "cell_type": "markdown",
   "metadata": {},
   "source": [
    "# MNIST with Pytorch\n",
    "\n",
    "MNIST (\"Modified National Institute of Standards and Technology\") is the de facto “hello world” dataset of computer vision. Since its release in 1999, this classic dataset of handwritten images has served as the basis for benchmarking classification algorithms. As new machine learning techniques emerge, MNIST remains a reliable resource for researchers and learners alike.\n",
    "\n",
    "In this competition, your goal is to correctly identify digits from a dataset of tens of thousands of handwritten images. We’ve curated a set of tutorial-style kernels which cover everything from regression to neural networks. We encourage you to experiment with different algorithms to learn first-hand what works well and how techniques compare.\n",
    "\n",
    "Help from :\n",
    "* https://nextjournal.com/gkoehler/pytorch-mnist\n",
    "* https://gist.github.com/xmfbit/b27cdbff68870418bdb8cefa86a2d558"
   ]
  },
  {
   "cell_type": "code",
   "execution_count": 1,
   "metadata": {},
   "outputs": [],
   "source": [
    "# Automatically reload module\n",
    "%load_ext autoreload\n",
    "%autoreload 2"
   ]
  },
  {
   "cell_type": "code",
   "execution_count": 2,
   "metadata": {},
   "outputs": [],
   "source": [
    "import torch\n",
    "\n",
    "from torch import nn\n",
    "import torch.nn.functional as F\n",
    "import torch.optim as optim\n",
    "from torch.autograd import Variable\n",
    "\n",
    "import numpy as np\n",
    "import matplotlib.pyplot as plt"
   ]
  },
  {
   "cell_type": "code",
   "execution_count": 3,
   "metadata": {},
   "outputs": [],
   "source": [
    "n_epochs = 2"
   ]
  },
  {
   "cell_type": "markdown",
   "metadata": {},
   "source": [
    "## Data loading\n",
    "\n",
    "`torch.utils.data.Dataset` is an abstract class representing a dataset. Your custom dataset should inherit Dataset and override the following methods:\n",
    "\n",
    "* `__len__` so that `len(dataset)` returns the size of the dataset.\n",
    "* `__getitem__` to support the indexing such that `dataset[i]` can be used to get ith sample\n",
    "\n",
    "The data must be wrapped in a Dataset class. First the data must be wrapped in a Dataset class with a `getitem` method that from an index return `X_train[index]` and `y_train[index]` and a length method. A Dataset is basically a data storage. We will read the csv in `__init__` but leave the reading of images to `__getitem__`. This is memory efficient because all the images are not stored in the memory at once but read as required."
   ]
  },
  {
   "cell_type": "code",
   "execution_count": 4,
   "metadata": {},
   "outputs": [],
   "source": [
    "from src.make_dataset import load_mnist\n",
    "\n",
    "train_loader, test_loader = load_mnist('../data/mnist')"
   ]
  },
  {
   "cell_type": "code",
   "execution_count": 5,
   "metadata": {},
   "outputs": [],
   "source": [
    "examples = enumerate(test_loader)\n",
    "batch_idx, (example_data, example_targets) = next(examples)"
   ]
  },
  {
   "cell_type": "code",
   "execution_count": 6,
   "metadata": {
    "scrolled": true
   },
   "outputs": [
    {
     "name": "stdout",
     "output_type": "stream",
     "text": [
      "tensor(2)\n"
     ]
    },
    {
     "data": {
      "text/plain": [
       "<matplotlib.image.AxesImage at 0xd7db470>"
      ]
     },
     "execution_count": 6,
     "metadata": {},
     "output_type": "execute_result"
    },
    {
     "data": {
      "image/png": "[encoded data removed]",
      "text/plain": [
       "<Figure size 432x288 with 1 Axes>"
      ]
     },
     "metadata": {
      "needs_background": "light"
     },
     "output_type": "display_data"
    }
   ],
   "source": [
    "print(example_targets[0])\n",
    "plt.imshow(example_data[0].view(28, 28).numpy())"
   ]
  },
  {
   "cell_type": "code",
   "execution_count": 7,
   "metadata": {},
   "outputs": [
    {
     "data": {
      "image/png": "[encoded data removed]",
      "text/plain": [
       "<Figure size 432x288 with 6 Axes>"
      ]
     },
     "metadata": {},
     "output_type": "display_data"
    }
   ],
   "source": [
    "fig = plt.figure()\n",
    "for i in range(6):\n",
    "    plt.subplot(2, 3, i+1)\n",
    "    plt.tight_layout()\n",
    "    plt.imshow(example_data[i].view(28, 28).numpy(), cmap='gray', interpolation='none')\n",
    "    plt.title(\"Ground Truth: {}\".format(example_targets[i]))\n",
    "    plt.xticks([])\n",
    "    plt.yticks([])"
   ]
  },
  {
   "cell_type": "markdown",
   "metadata": {},
   "source": [
    "## Multilayer Perceptron"
   ]
  },
  {
   "cell_type": "code",
   "execution_count": 8,
   "metadata": {},
   "outputs": [],
   "source": [
    "class MLP(nn.Module):\n",
    "    def __init__(self):\n",
    "        super(MLP, self).__init__()\n",
    "        self.fc1 = nn.Linear(28*28, 500)\n",
    "        self.fc2 = nn.Linear(500, 256)\n",
    "        self.fc3 = nn.Linear(256, 10)\n",
    "\n",
    "    def forward(self, x):\n",
    "        x = x.view(-1, 28*28)\n",
    "        x = F.relu(self.fc1(x))\n",
    "        x = F.relu(self.fc2(x))\n",
    "        x = self.fc3(x)\n",
    "        return x\n",
    "    \n",
    "    def name(self):\n",
    "        return \"MLP\""
   ]
  },
  {
   "cell_type": "code",
   "execution_count": 9,
   "metadata": {},
   "outputs": [],
   "source": [
    "mlp = MLP()\n",
    "\n",
    "criterion = nn.CrossEntropyLoss()\n",
    "optimizer = optim.SGD(mlp.parameters(), lr=0.01, momentum=0.9)\n",
    "\n",
    "train_losses = []\n",
    "train_counter = []\n",
    "test_losses = []\n",
    "test_counter = [i*len(train_loader.dataset) for i in range(n_epochs + 1)]  "
   ]
  },
  {
   "cell_type": "code",
   "execution_count": 10,
   "metadata": {},
   "outputs": [
    {
     "name": "stdout",
     "output_type": "stream",
     "text": [
      "Train Epoch: 1 [6336/60000 (11%)]\tLoss: 0.227038\n",
      "Train Epoch: 1 [12736/60000 (21%)]\tLoss: 0.286926\n",
      "Train Epoch: 1 [19136/60000 (32%)]\tLoss: 0.557149\n",
      "Train Epoch: 1 [25536/60000 (43%)]\tLoss: 0.392424\n",
      "Train Epoch: 1 [31936/60000 (53%)]\tLoss: 0.192840\n",
      "Train Epoch: 1 [38336/60000 (64%)]\tLoss: 0.094386\n",
      "Train Epoch: 1 [44736/60000 (75%)]\tLoss: 0.134074\n",
      "Train Epoch: 1 [51136/60000 (85%)]\tLoss: 0.165079\n",
      "Train Epoch: 1 [57536/60000 (96%)]\tLoss: 0.085353\n",
      "Train Epoch: 1 [29984/60000 (100%)]\tLoss: 0.231687\n",
      "\n",
      "Test set: Avg. loss: 0.0001, Accuracy: 9612/10000 (96%)\n",
      "\n",
      "Train Epoch: 2 [6336/60000 (11%)]\tLoss: 0.081990\n",
      "Train Epoch: 2 [12736/60000 (21%)]\tLoss: 0.085127\n",
      "Train Epoch: 2 [19136/60000 (32%)]\tLoss: 0.082707\n",
      "Train Epoch: 2 [25536/60000 (43%)]\tLoss: 0.280259\n",
      "Train Epoch: 2 [31936/60000 (53%)]\tLoss: 0.141163\n",
      "Train Epoch: 2 [38336/60000 (64%)]\tLoss: 0.065283\n",
      "Train Epoch: 2 [44736/60000 (75%)]\tLoss: 0.099133\n",
      "Train Epoch: 2 [51136/60000 (85%)]\tLoss: 0.060310\n",
      "Train Epoch: 2 [57536/60000 (96%)]\tLoss: 0.030201\n",
      "Train Epoch: 2 [29984/60000 (100%)]\tLoss: 0.014212\n",
      "\n",
      "Test set: Avg. loss: 0.0001, Accuracy: 9682/10000 (96%)\n",
      "\n"
     ]
    }
   ],
   "source": [
    "for epoch in range(1, n_epochs + 1):\n",
    "    # train step\n",
    "    mlp.train()\n",
    "    for batch_idx, (data, target) in enumerate(train_loader):\n",
    "        # get the inputs\n",
    "        data, target = Variable(data), Variable(target)\n",
    "        \n",
    "        # zero the parameter gradients\n",
    "        optimizer.zero_grad()\n",
    "        \n",
    "        # forward + backward + optimize\n",
    "        output = mlp(data)\n",
    "        loss = criterion(output, target)\n",
    "        loss.backward()\n",
    "        optimizer.step()\n",
    "        \n",
    "        # print statistics\n",
    "        if (batch_idx+1) % 100 == 0 or (batch_idx+1) == len(train_loader):\n",
    "            print('Train Epoch: {} [{}/{} ({:.0f}%)]\\tLoss: {:.6f}'.format(\n",
    "                epoch, \n",
    "                batch_idx * len(data), \n",
    "                len(train_loader.dataset),\n",
    "                100. * batch_idx / len(train_loader), \n",
    "                loss.data.item()\n",
    "            ))\n",
    "            train_losses.append(loss.item())\n",
    "            train_counter.append((batch_idx*64) + ((epoch-1)*len(train_loader.dataset)))\n",
    "            \n",
    "    # test step\n",
    "    mlp.eval()\n",
    "    test_loss = 0\n",
    "    correct = 0\n",
    "    with torch.no_grad():\n",
    "        for data, target in test_loader:\n",
    "            output = mlp(data)\n",
    "            test_loss += criterion(output, target).item()\n",
    "            pred = output.data.max(1, keepdim=True)[1]\n",
    "            correct += pred.eq(target.data.view_as(pred)).sum()\n",
    "    test_loss /= len(test_loader.dataset)\n",
    "    test_losses.append(test_loss)\n",
    "    print('\\nTest set: Avg. loss: {:.4f}, Accuracy: {}/{} ({:.0f}%)\\n'.format(\n",
    "        test_loss, correct, len(test_loader.dataset),\n",
    "        100. * correct / len(test_loader.dataset)))"
   ]
  },
  {
   "cell_type": "code",
   "execution_count": 11,
   "metadata": {},
   "outputs": [
    {
     "name": "stdout",
     "output_type": "stream",
     "text": [
      "tensor(2)\n"
     ]
    },
    {
     "data": {
      "text/plain": [
       "tensor([[-6.1427,  4.4398, 12.1404,  9.2255, -8.1886, -4.1806, -7.0414,  4.2259,\n",
       "          3.6364, -6.7216]], grad_fn=<ThAddmmBackward>)"
      ]
     },
     "execution_count": 11,
     "metadata": {},
     "output_type": "execute_result"
    }
   ],
   "source": [
    "print(example_targets[0])\n",
    "mlp(example_data[0])"
   ]
  },
  {
   "cell_type": "code",
   "execution_count": 12,
   "metadata": {},
   "outputs": [
    {
     "ename": "ValueError",
     "evalue": "x and y must be the same size",
     "output_type": "error",
     "traceback": [
      "\u001b[1;31m---------------------------------------------------------------------------\u001b[0m",
      "\u001b[1;31mValueError\u001b[0m                                Traceback (most recent call last)",
      "\u001b[1;32m<ipython-input-12-2ddd02f2bec4>\u001b[0m in \u001b[0;36m<module>\u001b[1;34m\u001b[0m\n\u001b[0;32m      1\u001b[0m \u001b[0mfig\u001b[0m \u001b[1;33m=\u001b[0m \u001b[0mplt\u001b[0m\u001b[1;33m.\u001b[0m\u001b[0mfigure\u001b[0m\u001b[1;33m(\u001b[0m\u001b[1;33m)\u001b[0m\u001b[1;33m\u001b[0m\u001b[1;33m\u001b[0m\u001b[0m\n\u001b[0;32m      2\u001b[0m \u001b[0mplt\u001b[0m\u001b[1;33m.\u001b[0m\u001b[0mplot\u001b[0m\u001b[1;33m(\u001b[0m\u001b[0mtrain_counter\u001b[0m\u001b[1;33m,\u001b[0m \u001b[0mtrain_losses\u001b[0m\u001b[1;33m,\u001b[0m \u001b[0mcolor\u001b[0m\u001b[1;33m=\u001b[0m\u001b[1;34m'blue'\u001b[0m\u001b[1;33m)\u001b[0m\u001b[1;33m\u001b[0m\u001b[1;33m\u001b[0m\u001b[0m\n\u001b[1;32m----> 3\u001b[1;33m \u001b[0mplt\u001b[0m\u001b[1;33m.\u001b[0m\u001b[0mscatter\u001b[0m\u001b[1;33m(\u001b[0m\u001b[0mtest_counter\u001b[0m\u001b[1;33m,\u001b[0m \u001b[0mtest_losses\u001b[0m\u001b[1;33m,\u001b[0m \u001b[0mcolor\u001b[0m\u001b[1;33m=\u001b[0m\u001b[1;34m'red'\u001b[0m\u001b[1;33m)\u001b[0m\u001b[1;33m\u001b[0m\u001b[1;33m\u001b[0m\u001b[0m\n\u001b[0m\u001b[0;32m      4\u001b[0m \u001b[0mplt\u001b[0m\u001b[1;33m.\u001b[0m\u001b[0mlegend\u001b[0m\u001b[1;33m(\u001b[0m\u001b[1;33m[\u001b[0m\u001b[1;34m'Train Loss'\u001b[0m\u001b[1;33m,\u001b[0m \u001b[1;34m'Test Loss'\u001b[0m\u001b[1;33m]\u001b[0m\u001b[1;33m,\u001b[0m \u001b[0mloc\u001b[0m\u001b[1;33m=\u001b[0m\u001b[1;34m'upper right'\u001b[0m\u001b[1;33m)\u001b[0m\u001b[1;33m\u001b[0m\u001b[1;33m\u001b[0m\u001b[0m\n\u001b[0;32m      5\u001b[0m \u001b[0mplt\u001b[0m\u001b[1;33m.\u001b[0m\u001b[0mxlabel\u001b[0m\u001b[1;33m(\u001b[0m\u001b[1;34m'number of training examples seen'\u001b[0m\u001b[1;33m)\u001b[0m\u001b[1;33m\u001b[0m\u001b[1;33m\u001b[0m\u001b[0m\n",
      "\u001b[1;32m~\\AppData\\Local\\Continuum\\anaconda3\\envs\\pytorch\\lib\\site-packages\\matplotlib\\pyplot.py\u001b[0m in \u001b[0;36mscatter\u001b[1;34m(x, y, s, c, marker, cmap, norm, vmin, vmax, alpha, linewidths, verts, edgecolors, data, **kwargs)\u001b[0m\n\u001b[0;32m   2862\u001b[0m         \u001b[0mvmin\u001b[0m\u001b[1;33m=\u001b[0m\u001b[0mvmin\u001b[0m\u001b[1;33m,\u001b[0m \u001b[0mvmax\u001b[0m\u001b[1;33m=\u001b[0m\u001b[0mvmax\u001b[0m\u001b[1;33m,\u001b[0m \u001b[0malpha\u001b[0m\u001b[1;33m=\u001b[0m\u001b[0malpha\u001b[0m\u001b[1;33m,\u001b[0m \u001b[0mlinewidths\u001b[0m\u001b[1;33m=\u001b[0m\u001b[0mlinewidths\u001b[0m\u001b[1;33m,\u001b[0m\u001b[1;33m\u001b[0m\u001b[1;33m\u001b[0m\u001b[0m\n\u001b[0;32m   2863\u001b[0m         verts=verts, edgecolors=edgecolors, **({\"data\": data} if data\n\u001b[1;32m-> 2864\u001b[1;33m         is not None else {}), **kwargs)\n\u001b[0m\u001b[0;32m   2865\u001b[0m     \u001b[0msci\u001b[0m\u001b[1;33m(\u001b[0m\u001b[0m__ret\u001b[0m\u001b[1;33m)\u001b[0m\u001b[1;33m\u001b[0m\u001b[1;33m\u001b[0m\u001b[0m\n\u001b[0;32m   2866\u001b[0m     \u001b[1;32mreturn\u001b[0m \u001b[0m__ret\u001b[0m\u001b[1;33m\u001b[0m\u001b[1;33m\u001b[0m\u001b[0m\n",
      "\u001b[1;32m~\\AppData\\Local\\Continuum\\anaconda3\\envs\\pytorch\\lib\\site-packages\\matplotlib\\__init__.py\u001b[0m in \u001b[0;36minner\u001b[1;34m(ax, data, *args, **kwargs)\u001b[0m\n\u001b[0;32m   1803\u001b[0m                         \u001b[1;34m\"the Matplotlib list!)\"\u001b[0m \u001b[1;33m%\u001b[0m \u001b[1;33m(\u001b[0m\u001b[0mlabel_namer\u001b[0m\u001b[1;33m,\u001b[0m \u001b[0mfunc\u001b[0m\u001b[1;33m.\u001b[0m\u001b[0m__name__\u001b[0m\u001b[1;33m)\u001b[0m\u001b[1;33m,\u001b[0m\u001b[1;33m\u001b[0m\u001b[1;33m\u001b[0m\u001b[0m\n\u001b[0;32m   1804\u001b[0m                         RuntimeWarning, stacklevel=2)\n\u001b[1;32m-> 1805\u001b[1;33m             \u001b[1;32mreturn\u001b[0m \u001b[0mfunc\u001b[0m\u001b[1;33m(\u001b[0m\u001b[0max\u001b[0m\u001b[1;33m,\u001b[0m \u001b[1;33m*\u001b[0m\u001b[0margs\u001b[0m\u001b[1;33m,\u001b[0m \u001b[1;33m**\u001b[0m\u001b[0mkwargs\u001b[0m\u001b[1;33m)\u001b[0m\u001b[1;33m\u001b[0m\u001b[1;33m\u001b[0m\u001b[0m\n\u001b[0m\u001b[0;32m   1806\u001b[0m \u001b[1;33m\u001b[0m\u001b[0m\n\u001b[0;32m   1807\u001b[0m         inner.__doc__ = _add_data_doc(inner.__doc__,\n",
      "\u001b[1;32m~\\AppData\\Local\\Continuum\\anaconda3\\envs\\pytorch\\lib\\site-packages\\matplotlib\\axes\\_axes.py\u001b[0m in \u001b[0;36mscatter\u001b[1;34m(self, x, y, s, c, marker, cmap, norm, vmin, vmax, alpha, linewidths, verts, edgecolors, **kwargs)\u001b[0m\n\u001b[0;32m   4170\u001b[0m         \u001b[0my\u001b[0m \u001b[1;33m=\u001b[0m \u001b[0mnp\u001b[0m\u001b[1;33m.\u001b[0m\u001b[0mma\u001b[0m\u001b[1;33m.\u001b[0m\u001b[0mravel\u001b[0m\u001b[1;33m(\u001b[0m\u001b[0my\u001b[0m\u001b[1;33m)\u001b[0m\u001b[1;33m\u001b[0m\u001b[1;33m\u001b[0m\u001b[0m\n\u001b[0;32m   4171\u001b[0m         \u001b[1;32mif\u001b[0m \u001b[0mx\u001b[0m\u001b[1;33m.\u001b[0m\u001b[0msize\u001b[0m \u001b[1;33m!=\u001b[0m \u001b[0my\u001b[0m\u001b[1;33m.\u001b[0m\u001b[0msize\u001b[0m\u001b[1;33m:\u001b[0m\u001b[1;33m\u001b[0m\u001b[1;33m\u001b[0m\u001b[0m\n\u001b[1;32m-> 4172\u001b[1;33m             \u001b[1;32mraise\u001b[0m \u001b[0mValueError\u001b[0m\u001b[1;33m(\u001b[0m\u001b[1;34m\"x and y must be the same size\"\u001b[0m\u001b[1;33m)\u001b[0m\u001b[1;33m\u001b[0m\u001b[1;33m\u001b[0m\u001b[0m\n\u001b[0m\u001b[0;32m   4173\u001b[0m \u001b[1;33m\u001b[0m\u001b[0m\n\u001b[0;32m   4174\u001b[0m         \u001b[1;32mif\u001b[0m \u001b[0ms\u001b[0m \u001b[1;32mis\u001b[0m \u001b[1;32mNone\u001b[0m\u001b[1;33m:\u001b[0m\u001b[1;33m\u001b[0m\u001b[1;33m\u001b[0m\u001b[0m\n",
      "\u001b[1;31mValueError\u001b[0m: x and y must be the same size"
     ]
    },
    {
     "data": {
      "image/png": "[encoded data removed]",
      "text/plain": [
       "<Figure size 432x288 with 1 Axes>"
      ]
     },
     "metadata": {
      "needs_background": "light"
     },
     "output_type": "display_data"
    }
   ],
   "source": [
    "fig = plt.figure()\n",
    "plt.plot(train_counter, train_losses, color='blue')\n",
    "plt.scatter(test_counter, test_losses, color='red')\n",
    "plt.legend(['Train Loss', 'Test Loss'], loc='upper right')\n",
    "plt.xlabel('number of training examples seen')\n",
    "plt.ylabel('negative log likelihood loss')\n",
    "fig"
   ]
  },
  {
   "cell_type": "code",
   "execution_count": null,
   "metadata": {},
   "outputs": [],
   "source": []
  },
  {
   "cell_type": "markdown",
   "metadata": {},
   "source": [
    "## ConvNet"
   ]
  },
  {
   "cell_type": "code",
   "execution_count": 13,
   "metadata": {},
   "outputs": [],
   "source": [
    "class ConvNet(nn.Module):\n",
    "    def __init__(self):\n",
    "        super(ConvNet, self).__init__()\n",
    "        self.conv1 = nn.Conv2d(1, 6, kernel_size=5)\n",
    "        self.conv2 = nn.Conv2d(6, 16, kernel_size=5)\n",
    "        self.pool = nn.MaxPool2d(2)\n",
    "        self.fc1 = nn.Linear(16 * 4 * 4, 84)\n",
    "        self.fc2 = nn.Linear(84, 10)\n",
    "\n",
    "    def forward(self, x):\n",
    "        x = self.pool(F.relu(self.conv1(x)))\n",
    "        x = self.pool(F.relu(self.conv2(x)))\n",
    "        x = x.view(-1, 16 * 4 * 4)\n",
    "        x = F.relu(self.fc1(x))\n",
    "        x = F.sigmoid(self.fc2(x))\n",
    "        return x"
   ]
  },
  {
   "cell_type": "code",
   "execution_count": 15,
   "metadata": {
    "scrolled": false
   },
   "outputs": [
    {
     "name": "stderr",
     "output_type": "stream",
     "text": [
      "C:\\Utilisateurs\\a557847\\AppData\\Local\\Continuum\\anaconda3\\envs\\pytorch\\lib\\site-packages\\torch\\nn\\functional.py:1006: UserWarning: nn.functional.sigmoid is deprecated. Use torch.sigmoid instead.\n",
      "  warnings.warn(\"nn.functional.sigmoid is deprecated. Use torch.sigmoid instead.\")\n"
     ]
    },
    {
     "name": "stdout",
     "output_type": "stream",
     "text": [
      "Train Epoch: 0 [0/60000 (0%)]\tLoss: 2.305974\n",
      "Train Epoch: 0 [640/60000 (1%)]\tLoss: 2.306440\n",
      "Train Epoch: 0 [1280/60000 (2%)]\tLoss: 2.308698\n",
      "Train Epoch: 0 [1920/60000 (3%)]\tLoss: 2.299999\n",
      "Train Epoch: 0 [2560/60000 (4%)]\tLoss: 2.309224\n",
      "Train Epoch: 0 [3200/60000 (5%)]\tLoss: 2.301967\n",
      "Train Epoch: 0 [3840/60000 (6%)]\tLoss: 2.306034\n",
      "Train Epoch: 0 [4480/60000 (7%)]\tLoss: 2.304241\n",
      "Train Epoch: 0 [5120/60000 (9%)]\tLoss: 2.303352\n",
      "Train Epoch: 0 [5760/60000 (10%)]\tLoss: 2.310185\n",
      "Train Epoch: 0 [6400/60000 (11%)]\tLoss: 2.302894\n",
      "Train Epoch: 0 [7040/60000 (12%)]\tLoss: 2.305111\n",
      "Train Epoch: 0 [7680/60000 (13%)]\tLoss: 2.304714\n",
      "Train Epoch: 0 [8320/60000 (14%)]\tLoss: 2.306016\n",
      "Train Epoch: 0 [8960/60000 (15%)]\tLoss: 2.302907\n",
      "Train Epoch: 0 [9600/60000 (16%)]\tLoss: 2.305307\n",
      "Train Epoch: 0 [10240/60000 (17%)]\tLoss: 2.303385\n",
      "Train Epoch: 0 [10880/60000 (18%)]\tLoss: 2.310153\n",
      "Train Epoch: 0 [11520/60000 (19%)]\tLoss: 2.306617\n",
      "Train Epoch: 0 [12160/60000 (20%)]\tLoss: 2.306948\n",
      "Train Epoch: 0 [12800/60000 (21%)]\tLoss: 2.305596\n",
      "Train Epoch: 0 [13440/60000 (22%)]\tLoss: 2.314676\n",
      "Train Epoch: 0 [14080/60000 (23%)]\tLoss: 2.300874\n",
      "Train Epoch: 0 [14720/60000 (25%)]\tLoss: 2.307072\n",
      "Train Epoch: 0 [15360/60000 (26%)]\tLoss: 2.299226\n",
      "Train Epoch: 0 [16000/60000 (27%)]\tLoss: 2.306958\n",
      "Train Epoch: 0 [16640/60000 (28%)]\tLoss: 2.307367\n",
      "Train Epoch: 0 [17280/60000 (29%)]\tLoss: 2.306348\n",
      "Train Epoch: 0 [17920/60000 (30%)]\tLoss: 2.301908\n",
      "Train Epoch: 0 [18560/60000 (31%)]\tLoss: 2.308158\n",
      "Train Epoch: 0 [19200/60000 (32%)]\tLoss: 2.314254\n",
      "Train Epoch: 0 [19840/60000 (33%)]\tLoss: 2.301312\n",
      "Train Epoch: 0 [20480/60000 (34%)]\tLoss: 2.312702\n",
      "Train Epoch: 0 [21120/60000 (35%)]\tLoss: 2.312716\n",
      "Train Epoch: 0 [21760/60000 (36%)]\tLoss: 2.306567\n",
      "Train Epoch: 0 [22400/60000 (37%)]\tLoss: 2.306264\n",
      "Train Epoch: 0 [23040/60000 (38%)]\tLoss: 2.304971\n",
      "Train Epoch: 0 [23680/60000 (39%)]\tLoss: 2.304719\n",
      "Train Epoch: 0 [24320/60000 (41%)]\tLoss: 2.303398\n",
      "Train Epoch: 0 [24960/60000 (42%)]\tLoss: 2.306762\n",
      "Train Epoch: 0 [25600/60000 (43%)]\tLoss: 2.310013\n",
      "Train Epoch: 0 [26240/60000 (44%)]\tLoss: 2.306212\n",
      "Train Epoch: 0 [26880/60000 (45%)]\tLoss: 2.311225\n",
      "Train Epoch: 0 [27520/60000 (46%)]\tLoss: 2.308546\n",
      "Train Epoch: 0 [28160/60000 (47%)]\tLoss: 2.298801\n",
      "Train Epoch: 0 [28800/60000 (48%)]\tLoss: 2.306070\n",
      "Train Epoch: 0 [29440/60000 (49%)]\tLoss: 2.303950\n",
      "Train Epoch: 0 [30080/60000 (50%)]\tLoss: 2.307583\n",
      "Train Epoch: 0 [30720/60000 (51%)]\tLoss: 2.306437\n",
      "Train Epoch: 0 [31360/60000 (52%)]\tLoss: 2.306283\n",
      "Train Epoch: 0 [32000/60000 (53%)]\tLoss: 2.303971\n",
      "Train Epoch: 0 [32640/60000 (54%)]\tLoss: 2.303223\n",
      "Train Epoch: 0 [33280/60000 (55%)]\tLoss: 2.304465\n",
      "Train Epoch: 0 [33920/60000 (57%)]\tLoss: 2.308377\n",
      "Train Epoch: 0 [34560/60000 (58%)]\tLoss: 2.302624\n",
      "Train Epoch: 0 [35200/60000 (59%)]\tLoss: 2.312953\n",
      "Train Epoch: 0 [35840/60000 (60%)]\tLoss: 2.308851\n",
      "Train Epoch: 0 [36480/60000 (61%)]\tLoss: 2.314615\n",
      "Train Epoch: 0 [37120/60000 (62%)]\tLoss: 2.311919\n",
      "Train Epoch: 0 [37760/60000 (63%)]\tLoss: 2.302230\n",
      "Train Epoch: 0 [38400/60000 (64%)]\tLoss: 2.310133\n",
      "Train Epoch: 0 [39040/60000 (65%)]\tLoss: 2.304511\n",
      "Train Epoch: 0 [39680/60000 (66%)]\tLoss: 2.307528\n",
      "Train Epoch: 0 [40320/60000 (67%)]\tLoss: 2.306688\n",
      "Train Epoch: 0 [40960/60000 (68%)]\tLoss: 2.315611\n",
      "Train Epoch: 0 [41600/60000 (69%)]\tLoss: 2.304598\n",
      "Train Epoch: 0 [42240/60000 (70%)]\tLoss: 2.302968\n",
      "Train Epoch: 0 [42880/60000 (71%)]\tLoss: 2.302674\n",
      "Train Epoch: 0 [43520/60000 (72%)]\tLoss: 2.306363\n",
      "Train Epoch: 0 [44160/60000 (74%)]\tLoss: 2.308665\n",
      "Train Epoch: 0 [44800/60000 (75%)]\tLoss: 2.303468\n",
      "Train Epoch: 0 [45440/60000 (76%)]\tLoss: 2.302737\n",
      "Train Epoch: 0 [46080/60000 (77%)]\tLoss: 2.302411\n",
      "Train Epoch: 0 [46720/60000 (78%)]\tLoss: 2.301670\n",
      "Train Epoch: 0 [47360/60000 (79%)]\tLoss: 2.301607\n",
      "Train Epoch: 0 [48000/60000 (80%)]\tLoss: 2.312203\n",
      "Train Epoch: 0 [48640/60000 (81%)]\tLoss: 2.299536\n",
      "Train Epoch: 0 [49280/60000 (82%)]\tLoss: 2.302394\n",
      "Train Epoch: 0 [49920/60000 (83%)]\tLoss: 2.309308\n",
      "Train Epoch: 0 [50560/60000 (84%)]\tLoss: 2.307055\n",
      "Train Epoch: 0 [51200/60000 (85%)]\tLoss: 2.305824\n",
      "Train Epoch: 0 [51840/60000 (86%)]\tLoss: 2.313313\n",
      "Train Epoch: 0 [52480/60000 (87%)]\tLoss: 2.309351\n",
      "Train Epoch: 0 [53120/60000 (88%)]\tLoss: 2.302167\n",
      "Train Epoch: 0 [53760/60000 (90%)]\tLoss: 2.306375\n",
      "Train Epoch: 0 [54400/60000 (91%)]\tLoss: 2.293299\n",
      "Train Epoch: 0 [55040/60000 (92%)]\tLoss: 2.305048\n",
      "Train Epoch: 0 [55680/60000 (93%)]\tLoss: 2.306548\n",
      "Train Epoch: 0 [56320/60000 (94%)]\tLoss: 2.306946\n",
      "Train Epoch: 0 [56960/60000 (95%)]\tLoss: 2.306684\n",
      "Train Epoch: 0 [57600/60000 (96%)]\tLoss: 2.301544\n",
      "Train Epoch: 0 [58240/60000 (97%)]\tLoss: 2.306329\n",
      "Train Epoch: 0 [58880/60000 (98%)]\tLoss: 2.299598\n",
      "Train Epoch: 0 [59520/60000 (99%)]\tLoss: 2.304908\n",
      "Train Epoch: 1 [0/60000 (0%)]\tLoss: 2.305832\n",
      "Train Epoch: 1 [640/60000 (1%)]\tLoss: 2.302125\n",
      "Train Epoch: 1 [1280/60000 (2%)]\tLoss: 2.306782\n",
      "Train Epoch: 1 [1920/60000 (3%)]\tLoss: 2.309371\n",
      "Train Epoch: 1 [2560/60000 (4%)]\tLoss: 2.307627\n",
      "Train Epoch: 1 [3200/60000 (5%)]\tLoss: 2.305594\n",
      "Train Epoch: 1 [3840/60000 (6%)]\tLoss: 2.308194\n",
      "Train Epoch: 1 [4480/60000 (7%)]\tLoss: 2.303660\n",
      "Train Epoch: 1 [5120/60000 (9%)]\tLoss: 2.301788\n",
      "Train Epoch: 1 [5760/60000 (10%)]\tLoss: 2.308545\n",
      "Train Epoch: 1 [6400/60000 (11%)]\tLoss: 2.309493\n",
      "Train Epoch: 1 [7040/60000 (12%)]\tLoss: 2.305481\n",
      "Train Epoch: 1 [7680/60000 (13%)]\tLoss: 2.305035\n",
      "Train Epoch: 1 [8320/60000 (14%)]\tLoss: 2.305479\n",
      "Train Epoch: 1 [8960/60000 (15%)]\tLoss: 2.302760\n",
      "Train Epoch: 1 [9600/60000 (16%)]\tLoss: 2.304213\n",
      "Train Epoch: 1 [10240/60000 (17%)]\tLoss: 2.306579\n",
      "Train Epoch: 1 [10880/60000 (18%)]\tLoss: 2.311568\n",
      "Train Epoch: 1 [11520/60000 (19%)]\tLoss: 2.303432\n",
      "Train Epoch: 1 [12160/60000 (20%)]\tLoss: 2.303917\n",
      "Train Epoch: 1 [12800/60000 (21%)]\tLoss: 2.313850\n",
      "Train Epoch: 1 [13440/60000 (22%)]\tLoss: 2.307850\n",
      "Train Epoch: 1 [14080/60000 (23%)]\tLoss: 2.308845\n",
      "Train Epoch: 1 [14720/60000 (25%)]\tLoss: 2.308632\n",
      "Train Epoch: 1 [15360/60000 (26%)]\tLoss: 2.300230\n",
      "Train Epoch: 1 [16000/60000 (27%)]\tLoss: 2.306686\n",
      "Train Epoch: 1 [16640/60000 (28%)]\tLoss: 2.299768\n",
      "Train Epoch: 1 [17280/60000 (29%)]\tLoss: 2.306682\n",
      "Train Epoch: 1 [17920/60000 (30%)]\tLoss: 2.302074\n",
      "Train Epoch: 1 [18560/60000 (31%)]\tLoss: 2.307261\n",
      "Train Epoch: 1 [19200/60000 (32%)]\tLoss: 2.308103\n",
      "Train Epoch: 1 [19840/60000 (33%)]\tLoss: 2.304190\n",
      "Train Epoch: 1 [20480/60000 (34%)]\tLoss: 2.305883\n",
      "Train Epoch: 1 [21120/60000 (35%)]\tLoss: 2.303424\n",
      "Train Epoch: 1 [21760/60000 (36%)]\tLoss: 2.299098\n",
      "Train Epoch: 1 [22400/60000 (37%)]\tLoss: 2.309129\n",
      "Train Epoch: 1 [23040/60000 (38%)]\tLoss: 2.309299\n",
      "Train Epoch: 1 [23680/60000 (39%)]\tLoss: 2.305439\n",
      "Train Epoch: 1 [24320/60000 (41%)]\tLoss: 2.302607\n",
      "Train Epoch: 1 [24960/60000 (42%)]\tLoss: 2.310270\n",
      "Train Epoch: 1 [25600/60000 (43%)]\tLoss: 2.302032\n",
      "Train Epoch: 1 [26240/60000 (44%)]\tLoss: 2.305509\n",
      "Train Epoch: 1 [26880/60000 (45%)]\tLoss: 2.297708\n",
      "Train Epoch: 1 [27520/60000 (46%)]\tLoss: 2.309928\n",
      "Train Epoch: 1 [28160/60000 (47%)]\tLoss: 2.306894\n",
      "Train Epoch: 1 [28800/60000 (48%)]\tLoss: 2.311049\n",
      "Train Epoch: 1 [29440/60000 (49%)]\tLoss: 2.306750\n",
      "Train Epoch: 1 [30080/60000 (50%)]\tLoss: 2.305423\n",
      "Train Epoch: 1 [30720/60000 (51%)]\tLoss: 2.300588\n",
      "Train Epoch: 1 [31360/60000 (52%)]\tLoss: 2.299927\n",
      "Train Epoch: 1 [32000/60000 (53%)]\tLoss: 2.301342\n",
      "Train Epoch: 1 [32640/60000 (54%)]\tLoss: 2.300741\n",
      "Train Epoch: 1 [33280/60000 (55%)]\tLoss: 2.314904\n",
      "Train Epoch: 1 [33920/60000 (57%)]\tLoss: 2.305294\n",
      "Train Epoch: 1 [34560/60000 (58%)]\tLoss: 2.307731\n",
      "Train Epoch: 1 [35200/60000 (59%)]\tLoss: 2.311860\n",
      "Train Epoch: 1 [35840/60000 (60%)]\tLoss: 2.306030\n",
      "Train Epoch: 1 [36480/60000 (61%)]\tLoss: 2.307130\n",
      "Train Epoch: 1 [37120/60000 (62%)]\tLoss: 2.301831\n",
      "Train Epoch: 1 [37760/60000 (63%)]\tLoss: 2.301758\n",
      "Train Epoch: 1 [38400/60000 (64%)]\tLoss: 2.303676\n",
      "Train Epoch: 1 [39040/60000 (65%)]\tLoss: 2.308326\n",
      "Train Epoch: 1 [39680/60000 (66%)]\tLoss: 2.308891\n",
      "Train Epoch: 1 [40320/60000 (67%)]\tLoss: 2.300240\n",
      "Train Epoch: 1 [40960/60000 (68%)]\tLoss: 2.312468\n",
      "Train Epoch: 1 [41600/60000 (69%)]\tLoss: 2.308508\n",
      "Train Epoch: 1 [42240/60000 (70%)]\tLoss: 2.307721\n",
      "Train Epoch: 1 [42880/60000 (71%)]\tLoss: 2.309356\n",
      "Train Epoch: 1 [43520/60000 (72%)]\tLoss: 2.309873\n",
      "Train Epoch: 1 [44160/60000 (74%)]\tLoss: 2.308805\n",
      "Train Epoch: 1 [44800/60000 (75%)]\tLoss: 2.307869\n",
      "Train Epoch: 1 [45440/60000 (76%)]\tLoss: 2.309266\n",
      "Train Epoch: 1 [46080/60000 (77%)]\tLoss: 2.301305\n",
      "Train Epoch: 1 [46720/60000 (78%)]\tLoss: 2.304243\n",
      "Train Epoch: 1 [47360/60000 (79%)]\tLoss: 2.299988\n",
      "Train Epoch: 1 [48000/60000 (80%)]\tLoss: 2.307097\n",
      "Train Epoch: 1 [48640/60000 (81%)]\tLoss: 2.307495\n",
      "Train Epoch: 1 [49280/60000 (82%)]\tLoss: 2.305374\n",
      "Train Epoch: 1 [49920/60000 (83%)]\tLoss: 2.307356\n",
      "Train Epoch: 1 [50560/60000 (84%)]\tLoss: 2.306837\n",
      "Train Epoch: 1 [51200/60000 (85%)]\tLoss: 2.311488\n",
      "Train Epoch: 1 [51840/60000 (86%)]\tLoss: 2.300459\n",
      "Train Epoch: 1 [52480/60000 (87%)]\tLoss: 2.305630\n",
      "Train Epoch: 1 [53120/60000 (88%)]\tLoss: 2.304998\n",
      "Train Epoch: 1 [53760/60000 (90%)]\tLoss: 2.311330\n",
      "Train Epoch: 1 [54400/60000 (91%)]\tLoss: 2.304974\n",
      "Train Epoch: 1 [55040/60000 (92%)]\tLoss: 2.298704\n",
      "Train Epoch: 1 [55680/60000 (93%)]\tLoss: 2.318446\n",
      "Train Epoch: 1 [56320/60000 (94%)]\tLoss: 2.311815\n",
      "Train Epoch: 1 [56960/60000 (95%)]\tLoss: 2.300720\n",
      "Train Epoch: 1 [57600/60000 (96%)]\tLoss: 2.305696\n",
      "Train Epoch: 1 [58240/60000 (97%)]\tLoss: 2.304702\n",
      "Train Epoch: 1 [58880/60000 (98%)]\tLoss: 2.308050\n",
      "Train Epoch: 1 [59520/60000 (99%)]\tLoss: 2.299731\n"
     ]
    }
   ],
   "source": [
    "conv_net = ConvNet()\n",
    "criterion = nn.CrossEntropyLoss()\n",
    "optimizer = optim.SGD(mlp.parameters(), lr=0.01, momentum=0.9)\n",
    "\n",
    "for epoch in range(2):  # loop over the dataset multiple times\n",
    "    conv_net.train()\n",
    "    for batch_idx, (data, target) in enumerate(train_loader):\n",
    "        # get the inputs\n",
    "        data, target = Variable(data), Variable(target)\n",
    "        \n",
    "        # zero the parameter gradients\n",
    "        optimizer.zero_grad()\n",
    "        \n",
    "        # forward + backward + optimize\n",
    "        output = conv_net(data)\n",
    "        loss = criterion(output, target)\n",
    "        loss.backward()\n",
    "        optimizer.step()\n",
    "        \n",
    "        # print statistics\n",
    "        if batch_idx % 10 == 0:\n",
    "            print('Train Epoch: {} [{}/{} ({:.0f}%)]\\tLoss: {:.6f}'.format(\n",
    "                epoch, \n",
    "                batch_idx * len(data), \n",
    "                len(train_loader.dataset),\n",
    "                100. * batch_idx / len(train_loader), \n",
    "                loss.data.item()\n",
    "            ))"
   ]
  },
  {
   "cell_type": "code",
   "execution_count": null,
   "metadata": {},
   "outputs": [],
   "source": []
  }
 ],
 "metadata": {
  "kernelspec": {
   "display_name": "Python 3",
   "language": "python",
   "name": "python3"
  },
  "language_info": {
   "codemirror_mode": {
    "name": "ipython",
    "version": 3
   },
   "file_extension": ".py",
   "mimetype": "text/x-python",
   "name": "python",
   "nbconvert_exporter": "python",
   "pygments_lexer": "ipython3",
   "version": "3.6.7"
  }
 },
 "nbformat": 4,
 "nbformat_minor": 2
}
