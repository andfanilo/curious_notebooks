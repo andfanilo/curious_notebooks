{
 "cells": [
  {
   "cell_type": "markdown",
   "metadata": {},
   "source": [
    "# What is PyTorch?\n",
    "\n",
    "It’s a Python based scientific computing package targeted at two sets of audiences:\n",
    "\n",
    "* A replacement for NumPy to use the power of GPUs\n",
    "* a deep learning research platform that provides maximum flexibility and speed##"
   ]
  },
  {
   "cell_type": "markdown",
   "metadata": {},
   "source": [
    "# Tensors\n",
    "\n",
    "Tensors are similar to NumPy’s ndarrays, with the addition being that Tensors can also be used on a GPU to accelerate computing."
   ]
  },
  {
   "cell_type": "code",
   "execution_count": 1,
   "metadata": {},
   "outputs": [],
   "source": [
    "from __future__ import print_function\n",
    "import torch"
   ]
  },
  {
   "cell_type": "code",
   "execution_count": 2,
   "metadata": {},
   "outputs": [
    {
     "name": "stdout",
     "output_type": "stream",
     "text": [
      "tensor(1.00000e-42 *\n",
      "       [[ 0.0378,  0.0000,  0.0000],\n",
      "        [ 0.0000,  0.0000,  0.0000],\n",
      "        [ 0.0000,  0.0000,  0.0000],\n",
      "        [ 0.0000,  1.4574,  0.0000],\n",
      "        [ 0.0000,  0.0000,  0.0000]])\n"
     ]
    }
   ],
   "source": [
    "print(torch.empty(5, 3))"
   ]
  },
  {
   "cell_type": "code",
   "execution_count": 3,
   "metadata": {},
   "outputs": [
    {
     "name": "stdout",
     "output_type": "stream",
     "text": [
      "tensor([[ 0.4201,  0.1705,  0.8385],\n",
      "        [ 0.4801,  0.8444,  0.7690],\n",
      "        [ 0.0517,  0.1028,  0.6157],\n",
      "        [ 0.7636,  0.4088,  0.2309],\n",
      "        [ 0.5780,  0.6370,  0.7032]])\n"
     ]
    }
   ],
   "source": [
    "print(torch.rand(5, 3))"
   ]
  },
  {
   "cell_type": "code",
   "execution_count": 4,
   "metadata": {},
   "outputs": [
    {
     "name": "stdout",
     "output_type": "stream",
     "text": [
      "tensor([[ 0,  0,  0],\n",
      "        [ 0,  0,  0],\n",
      "        [ 0,  0,  0],\n",
      "        [ 0,  0,  0],\n",
      "        [ 0,  0,  0]])\n"
     ]
    }
   ],
   "source": [
    "print(torch.zeros(5, 3, dtype=torch.long))"
   ]
  },
  {
   "cell_type": "code",
   "execution_count": 5,
   "metadata": {},
   "outputs": [
    {
     "name": "stdout",
     "output_type": "stream",
     "text": [
      "tensor([[ 0.7613,  0.8644,  0.8380],\n",
      "        [ 0.3905,  1.1073,  0.8856],\n",
      "        [ 0.6699,  0.8419,  0.6429],\n",
      "        [ 1.0179,  1.4311,  0.6963],\n",
      "        [ 1.3591,  1.0512,  1.0892]])\n"
     ]
    }
   ],
   "source": [
    "x = torch.rand(5, 3)\n",
    "y = torch.rand(5, 3)\n",
    "print(x + y)"
   ]
  },
  {
   "cell_type": "code",
   "execution_count": 6,
   "metadata": {},
   "outputs": [
    {
     "data": {
      "text/plain": [
       "tensor([ 0.7796,  0.5478,  0.3515,  0.5752,  0.7334])"
      ]
     },
     "execution_count": 6,
     "metadata": {},
     "output_type": "execute_result"
    }
   ],
   "source": [
    "x[:, 1]"
   ]
  },
  {
   "cell_type": "code",
   "execution_count": 7,
   "metadata": {},
   "outputs": [
    {
     "data": {
      "text/plain": [
       "tensor([[ 0.1208,  0.7796,  0.2870],\n",
       "        [ 0.2985,  0.5478,  0.2955],\n",
       "        [ 0.3556,  0.3515,  0.3781],\n",
       "        [ 0.5753,  0.5752,  0.0302],\n",
       "        [ 0.6309,  0.7334,  0.1472]])"
      ]
     },
     "execution_count": 7,
     "metadata": {},
     "output_type": "execute_result"
    }
   ],
   "source": [
    "x"
   ]
  },
  {
   "cell_type": "markdown",
   "metadata": {},
   "source": [
    "## Autograd : automatic differentiation"
   ]
  },
  {
   "cell_type": "code",
   "execution_count": 8,
   "metadata": {},
   "outputs": [
    {
     "name": "stdout",
     "output_type": "stream",
     "text": [
      "tensor([[ 1.,  1.],\n",
      "        [ 1.,  1.]])\n"
     ]
    }
   ],
   "source": [
    "x = torch.ones(2, 2, requires_grad=True)\n",
    "print(x)"
   ]
  },
  {
   "cell_type": "code",
   "execution_count": 9,
   "metadata": {},
   "outputs": [
    {
     "name": "stdout",
     "output_type": "stream",
     "text": [
      "tensor([[ 3.,  3.],\n",
      "        [ 3.,  3.]])\n"
     ]
    }
   ],
   "source": [
    "y = x + 2\n",
    "print(y)"
   ]
  },
  {
   "cell_type": "code",
   "execution_count": 10,
   "metadata": {},
   "outputs": [
    {
     "name": "stdout",
     "output_type": "stream",
     "text": [
      "<AddBackward0 object at 0x00000000081D1FD0>\n"
     ]
    }
   ],
   "source": [
    "print(y.grad_fn)"
   ]
  },
  {
   "cell_type": "code",
   "execution_count": 11,
   "metadata": {},
   "outputs": [
    {
     "name": "stdout",
     "output_type": "stream",
     "text": [
      "tensor([[ 27.,  27.],\n",
      "        [ 27.,  27.]]) tensor(27.)\n"
     ]
    }
   ],
   "source": [
    "z = y * y * 3\n",
    "out = z.mean()\n",
    "print(z, out)"
   ]
  },
  {
   "cell_type": "code",
   "execution_count": 12,
   "metadata": {},
   "outputs": [],
   "source": [
    "out.backward()"
   ]
  },
  {
   "cell_type": "code",
   "execution_count": 13,
   "metadata": {},
   "outputs": [
    {
     "name": "stdout",
     "output_type": "stream",
     "text": [
      "tensor([[ 4.5000,  4.5000],\n",
      "        [ 4.5000,  4.5000]])\n"
     ]
    }
   ],
   "source": [
    "print(x.grad)"
   ]
  },
  {
   "cell_type": "markdown",
   "metadata": {},
   "source": [
    "## Linear regression, go"
   ]
  },
  {
   "cell_type": "code",
   "execution_count": 160,
   "metadata": {},
   "outputs": [],
   "source": [
    "import torch\n",
    "import torch.nn as nn\n",
    "import torch.nn.functional as F\n",
    "import torch.optim as optim\n",
    "import matplotlib.pyplot as plt"
   ]
  },
  {
   "cell_type": "code",
   "execution_count": 161,
   "metadata": {},
   "outputs": [],
   "source": [
    "x = torch.arange(-100, 100)\n",
    "y = 3 * x + 5 + 50 * torch.rand(200)"
   ]
  },
  {
   "cell_type": "code",
   "execution_count": 163,
   "metadata": {},
   "outputs": [
    {
     "data": {
      "text/plain": [
       "[<matplotlib.lines.Line2D at 0x6dcc908>]"
      ]
     },
     "execution_count": 163,
     "metadata": {},
     "output_type": "execute_result"
    },
    {
     "data": {
      "image/png": "[encoded data removed]",
      "text/plain": [
       "<Figure size 432x288 with 1 Axes>"
      ]
     },
     "metadata": {},
     "output_type": "display_data"
    }
   ],
   "source": [
    "plt.plot(x.numpy(), y.numpy(), '+')"
   ]
  },
  {
   "cell_type": "code",
   "execution_count": 164,
   "metadata": {},
   "outputs": [],
   "source": [
    "class LinearRegressionModel(nn.Module):\n",
    "\n",
    "    def __init__(self):\n",
    "        super(LinearRegressionModel, self).__init__()\n",
    "        self.linear = nn.Linear(1, 1)\n",
    "\n",
    "    def forward(self, x):\n",
    "        # You just have to define the forward function, and the backward function (where gradients are computed) \n",
    "        # is automatically defined for you using autograd. You can use any of the Tensor operations in the forward function.\n",
    "        out = self.linear(x)\n",
    "        return out"
   ]
  },
  {
   "cell_type": "code",
   "execution_count": 165,
   "metadata": {},
   "outputs": [
    {
     "name": "stdout",
     "output_type": "stream",
     "text": [
      "LinearRegressionModel(\n",
      "  (linear): Linear(in_features=1, out_features=1, bias=True)\n",
      ")\n"
     ]
    }
   ],
   "source": [
    "model = LinearRegressionModel()\n",
    "print(model)"
   ]
  },
  {
   "cell_type": "code",
   "execution_count": 166,
   "metadata": {},
   "outputs": [
    {
     "data": {
      "text/plain": [
       "[Parameter containing:\n",
       " tensor([[-0.7729]]), Parameter containing:\n",
       " tensor([-0.1468])]"
      ]
     },
     "execution_count": 166,
     "metadata": {},
     "output_type": "execute_result"
    }
   ],
   "source": [
    "# The learnable parameters of a model are returned by net.parameters()\n",
    "list(model.parameters())"
   ]
  },
  {
   "cell_type": "code",
   "execution_count": 167,
   "metadata": {},
   "outputs": [
    {
     "name": "stdout",
     "output_type": "stream",
     "text": [
      "epoch 0, loss 47850.81640625, 1.7496973276138306.x + 0.6115589737892151, gradient w -24969.771484375 b -56.29227066040039\n",
      "epoch 10, loss 1087.8780517578125, 2.997986316680908.x + 0.6713443994522095, gradient w -0.4314002990722656 b -59.9186897277832\n",
      "epoch 20, loss 1084.2943115234375, 2.998016357421875.x + 0.7311972379684448, gradient w -0.00918087363243103 b -59.79899215698242\n",
      "epoch 30, loss 1080.724853515625, 2.9980251789093018.x + 0.7909306287765503, gradient w -0.008146584033966064 b -59.679534912109375\n",
      "epoch 40, loss 1077.170654296875, 2.9980342388153076.x + 0.850544810295105, gradient w -0.008880198001861572 b -59.56029510498047\n"
     ]
    },
    {
     "data": {
      "text/plain": [
       "[Parameter containing:\n",
       " tensor([[ 2.9980]]), Parameter containing:\n",
       " tensor([ 0.9041])]"
      ]
     },
     "execution_count": 167,
     "metadata": {},
     "output_type": "execute_result"
    }
   ],
   "source": [
    "model = LinearRegressionModel()\n",
    "criterion = nn.MSELoss()\n",
    "optimizer = optim.SGD(model.parameters(), lr=0.0001)\n",
    "                      \n",
    "for epoch in range(50):\n",
    "    # zero the parameter gradients from previous epoch\n",
    "    optimizer.zero_grad()\n",
    "    \n",
    "    # forward + backward + optimize\n",
    "    output = model(x.view(-1, 1))\n",
    "    loss = criterion(output, y.view(-1, 1))\n",
    "    loss.backward()    # accumulate gradients through backprop\n",
    "    optimizer.step()   # Does the update\n",
    "    if(epoch % 10 == 0):\n",
    "        print('epoch {}, loss {}, {}.x + {}, gradient w {} b {}'.format(\n",
    "            epoch, \n",
    "            loss.data.item(), \n",
    "            model.linear.weight.item(), \n",
    "            model.linear.bias.item(), \n",
    "            model.linear.weight.grad.item(), \n",
    "            model.linear.bias.grad.item()\n",
    "        ))\n",
    "    \n",
    "list(model.parameters())"
   ]
  },
  {
   "cell_type": "code",
   "execution_count": 169,
   "metadata": {
    "scrolled": true
   },
   "outputs": [
    {
     "data": {
      "text/plain": [
       "[<matplotlib.lines.Line2D at 0x99e9128>,\n",
       " <matplotlib.lines.Line2D at 0x99e9320>]"
      ]
     },
     "execution_count": 169,
     "metadata": {},
     "output_type": "execute_result"
    },
    {
     "data": {
      "image/png": "[encoded data removed]",
      "text/plain": [
       "<Figure size 432x288 with 1 Axes>"
      ]
     },
     "metadata": {},
     "output_type": "display_data"
    }
   ],
   "source": [
    "plt.plot(x.numpy(), y.numpy(), '+', x.numpy(), model(x.view(-1, 1)).view(-1).detach().numpy(), 'r')"
   ]
  },
  {
   "cell_type": "markdown",
   "metadata": {},
   "source": [
    "## Let's try a square poly"
   ]
  },
  {
   "cell_type": "code",
   "execution_count": 192,
   "metadata": {},
   "outputs": [],
   "source": [
    "x = torch.arange(0, 10, 0.001)\n",
    "y = torch.pow(x, 2) + 10*torch.rand(10000)"
   ]
  },
  {
   "cell_type": "code",
   "execution_count": 193,
   "metadata": {},
   "outputs": [],
   "source": [
    "def make_features(x):\n",
    "    \"\"\"Builds features i.e. a matrix with columns [x, x^2].\"\"\"\n",
    "    x = x.unsqueeze(1)\n",
    "    return torch.cat([x ** i for i in range(1, 3)], 1)"
   ]
  },
  {
   "cell_type": "markdown",
   "metadata": {},
   "source": [
    "First, cheat by building a x^2 feature to input in the model"
   ]
  },
  {
   "cell_type": "code",
   "execution_count": 173,
   "metadata": {},
   "outputs": [
    {
     "data": {
      "text/plain": [
       "tensor([[  0.0000,   0.0000],\n",
       "        [  0.0010,   0.0000],\n",
       "        [  0.0020,   0.0000],\n",
       "        ...,\n",
       "        [  9.9970,  99.9400],\n",
       "        [  9.9980,  99.9600],\n",
       "        [  9.9990,  99.9800]])"
      ]
     },
     "execution_count": 173,
     "metadata": {},
     "output_type": "execute_result"
    }
   ],
   "source": [
    "make_features(x)"
   ]
  },
  {
   "cell_type": "code",
   "execution_count": 174,
   "metadata": {},
   "outputs": [],
   "source": [
    "class Net(nn.Module):\n",
    "\n",
    "    def __init__(self):\n",
    "        super(Net, self).__init__()\n",
    "        self.fc = nn.Linear(2, 1)\n",
    "\n",
    "    def forward(self, x):\n",
    "        x = self.fc(x)\n",
    "        return x"
   ]
  },
  {
   "cell_type": "code",
   "execution_count": 175,
   "metadata": {},
   "outputs": [
    {
     "name": "stdout",
     "output_type": "stream",
     "text": [
      "epoch 0, loss 1204.5260009765625\n",
      "epoch 1000, loss 15.832525253295898\n",
      "epoch 2000, loss 12.276150703430176\n",
      "epoch 3000, loss 10.871932983398438\n",
      "epoch 4000, loss 10.294178009033203\n",
      "epoch 5000, loss 10.034710884094238\n",
      "epoch 6000, loss 9.898603439331055\n",
      "epoch 7000, loss 9.811182022094727\n",
      "epoch 8000, loss 9.743734359741211\n",
      "epoch 9000, loss 9.685248374938965\n",
      "epoch 10000, loss 9.631342887878418\n"
     ]
    },
    {
     "data": {
      "text/plain": [
       "[Parameter containing:\n",
       " tensor([[ 1.4339,  0.8794]]), Parameter containing:\n",
       " tensor([ 1.4862])]"
      ]
     },
     "execution_count": 175,
     "metadata": {},
     "output_type": "execute_result"
    }
   ],
   "source": [
    "net = Net()\n",
    "criterion = nn.MSELoss()\n",
    "optimizer = optim.SGD(net.parameters(), lr=0.0001)\n",
    "                      \n",
    "for epoch in range(10001):\n",
    "    # zero the parameter gradients from previous epoch\n",
    "    optimizer.zero_grad()\n",
    "    \n",
    "    # forward + backward + optimize\n",
    "    output = net(make_features(x))\n",
    "    loss = criterion(output, y.view(-1, 1))\n",
    "    loss.backward()    # accumulate gradients through backprop\n",
    "    optimizer.step()   # Does the update\n",
    "    if(epoch % 1000 == 0):\n",
    "        print('epoch {}, loss {}'.format(epoch, loss.data.item()))\n",
    "    \n",
    "list(net.parameters())"
   ]
  },
  {
   "cell_type": "code",
   "execution_count": 176,
   "metadata": {},
   "outputs": [
    {
     "data": {
      "text/plain": [
       "[<matplotlib.lines.Line2D at 0x6d7b320>,\n",
       " <matplotlib.lines.Line2D at 0x6d7b4a8>]"
      ]
     },
     "execution_count": 176,
     "metadata": {},
     "output_type": "execute_result"
    },
    {
     "data": {
      "image/png": "[encoded data removed]",
      "text/plain": [
       "<Figure size 432x288 with 1 Axes>"
      ]
     },
     "metadata": {},
     "output_type": "display_data"
    }
   ],
   "source": [
    "plt.plot(x.numpy(), y.numpy(), '+', x.numpy(), net(make_features(x)).view(-1).detach().numpy(), 'r')"
   ]
  },
  {
   "cell_type": "markdown",
   "metadata": {},
   "source": [
    "Now try only with one input and multilayer net"
   ]
  },
  {
   "cell_type": "code",
   "execution_count": 194,
   "metadata": {},
   "outputs": [],
   "source": [
    "class MultiNet(nn.Module):\n",
    "\n",
    "    def __init__(self):\n",
    "        super(MultiNet, self).__init__()\n",
    "        self.fc1 = nn.Linear(1, 16)\n",
    "        self.fc2 = nn.Linear(16, 8)\n",
    "        self.fc3 = nn.Linear(8, 1)\n",
    "\n",
    "    def forward(self, x):\n",
    "        x = F.relu(self.fc1(x))\n",
    "        x = F.relu(self.fc2(x))\n",
    "        x = self.fc3(x)\n",
    "        return x"
   ]
  },
  {
   "cell_type": "code",
   "execution_count": 195,
   "metadata": {},
   "outputs": [
    {
     "name": "stdout",
     "output_type": "stream",
     "text": [
      "epoch 0, loss 2379.767578125\n",
      "epoch 1000, loss 31.337474822998047\n",
      "epoch 2000, loss 12.932994842529297\n",
      "epoch 3000, loss 10.12301254272461\n",
      "epoch 4000, loss 9.225488662719727\n",
      "epoch 5000, loss 8.827387809753418\n",
      "epoch 6000, loss 8.633849143981934\n",
      "epoch 7000, loss 8.531479835510254\n",
      "epoch 8000, loss 8.471953392028809\n",
      "epoch 9000, loss 8.440422058105469\n",
      "epoch 10000, loss 8.419716835021973\n"
     ]
    }
   ],
   "source": [
    "mnet = MultiNet()\n",
    "criterion = nn.MSELoss()\n",
    "optimizer = optim.SGD(mnet.parameters(), lr=0.0001)\n",
    "                      \n",
    "for epoch in range(10001):\n",
    "    # zero the parameter gradients from previous epoch\n",
    "    optimizer.zero_grad()\n",
    "    \n",
    "    # forward + backward + optimize\n",
    "    output = mnet(x.view(-1, 1))\n",
    "    loss = criterion(output, y.view(-1, 1))\n",
    "    loss.backward()    # accumulate gradients through backprop\n",
    "    optimizer.step()   # Does the update\n",
    "    if(epoch % 1000 == 0):\n",
    "        print('epoch {}, loss {}'.format(epoch, loss.data.item()))\n",
    "    \n",
    "#list(mnet.parameters())"
   ]
  },
  {
   "cell_type": "code",
   "execution_count": 196,
   "metadata": {},
   "outputs": [
    {
     "data": {
      "text/plain": [
       "[<matplotlib.lines.Line2D at 0xc0a5940>,\n",
       " <matplotlib.lines.Line2D at 0xc0a5ac8>]"
      ]
     },
     "execution_count": 196,
     "metadata": {},
     "output_type": "execute_result"
    },
    {
     "data": {
      "image/png": "[encoded data removed]",
      "text/plain": [
       "<Figure size 432x288 with 1 Axes>"
      ]
     },
     "metadata": {},
     "output_type": "display_data"
    }
   ],
   "source": [
    "plt.plot(x.numpy(), y.numpy(), '+', x.numpy(), mnet(x.view(-1, 1)).view(-1).detach().numpy(), 'r')"
   ]
  },
  {
   "cell_type": "markdown",
   "metadata": {},
   "source": [
    "Both converge to the same loss, though the feature one converges faster"
   ]
  },
  {
   "cell_type": "markdown",
   "metadata": {},
   "source": [
    "## Let's try a sine function"
   ]
  },
  {
   "cell_type": "code",
   "execution_count": 221,
   "metadata": {},
   "outputs": [],
   "source": [
    "x = torch.arange(0, 10, 0.01)\n",
    "y = torch.sin(x) + 0.5*torch.rand(1000)"
   ]
  },
  {
   "cell_type": "code",
   "execution_count": 222,
   "metadata": {},
   "outputs": [
    {
     "data": {
      "text/plain": [
       "[<matplotlib.lines.Line2D at 0xd0ca048>]"
      ]
     },
     "execution_count": 222,
     "metadata": {},
     "output_type": "execute_result"
    },
    {
     "data": {
      "image/png": "[encoded data removed]",
      "text/plain": [
       "<Figure size 432x288 with 1 Axes>"
      ]
     },
     "metadata": {},
     "output_type": "display_data"
    }
   ],
   "source": [
    "plt.plot(x.numpy(), y.numpy(), '+')"
   ]
  },
  {
   "cell_type": "code",
   "execution_count": 228,
   "metadata": {},
   "outputs": [],
   "source": [
    "class SinNet(nn.Module):\n",
    "\n",
    "    def __init__(self):\n",
    "        super(SinNet, self).__init__()\n",
    "        self.fc1 = nn.Linear(1, 64)\n",
    "        self.fc2 = nn.Linear(64, 32)\n",
    "        self.fc3 = nn.Linear(32, 1)\n",
    "\n",
    "    def forward(self, x):\n",
    "        x = F.relu(self.fc1(x))\n",
    "        x = F.relu(self.fc2(x))\n",
    "        x = self.fc3(x)\n",
    "        return x"
   ]
  },
  {
   "cell_type": "code",
   "execution_count": 229,
   "metadata": {},
   "outputs": [
    {
     "name": "stdout",
     "output_type": "stream",
     "text": [
      "epoch 0, loss 1.0638618469238281\n",
      "epoch 1000, loss 0.25263503193855286\n",
      "epoch 2000, loss 0.19504967331886292\n",
      "epoch 3000, loss 0.184067964553833\n",
      "epoch 4000, loss 0.15169085562229156\n",
      "epoch 5000, loss 0.09749866276979446\n",
      "epoch 6000, loss 0.049539268016815186\n",
      "epoch 7000, loss 0.027796655893325806\n",
      "epoch 8000, loss 0.023776281625032425\n",
      "epoch 9000, loss 0.023530486971139908\n",
      "epoch 10000, loss 0.023489831015467644\n"
     ]
    }
   ],
   "source": [
    "snet = SinNet()\n",
    "criterion = nn.MSELoss()\n",
    "optimizer = optim.Adam(snet.parameters(), lr=0.0001)\n",
    "                      \n",
    "for epoch in range(10001):\n",
    "    # zero the parameter gradients from previous epoch\n",
    "    optimizer.zero_grad()\n",
    "    \n",
    "    # forward + backward + optimize\n",
    "    output = snet(x.view(-1, 1))\n",
    "    loss = criterion(output, y.view(-1, 1))\n",
    "    loss.backward()    # accumulate gradients through backprop\n",
    "    optimizer.step()   # Does the update\n",
    "    if(epoch % 1000 == 0):\n",
    "        print('epoch {}, loss {}'.format(epoch, loss.data.item()))"
   ]
  },
  {
   "cell_type": "code",
   "execution_count": 230,
   "metadata": {},
   "outputs": [
    {
     "data": {
      "text/plain": [
       "[<matplotlib.lines.Line2D at 0xd1d8898>,\n",
       " <matplotlib.lines.Line2D at 0xd1d8a20>]"
      ]
     },
     "execution_count": 230,
     "metadata": {},
     "output_type": "execute_result"
    },
    {
     "data": {
      "image/png": "[encoded data removed]",
      "text/plain": [
       "<Figure size 432x288 with 1 Axes>"
      ]
     },
     "metadata": {},
     "output_type": "display_data"
    }
   ],
   "source": [
    "plt.plot(x.numpy(), y.numpy(), '+', x.numpy(), snet(x.view(-1, 1)).view(-1).detach().numpy(), 'r')"
   ]
  },
  {
   "cell_type": "code",
   "execution_count": null,
   "metadata": {},
   "outputs": [],
   "source": []
  }
 ],
 "metadata": {
  "kernelspec": {
   "display_name": "Python 3",
   "language": "python",
   "name": "python3"
  },
  "language_info": {
   "codemirror_mode": {
    "name": "ipython",
    "version": 3
   },
   "file_extension": ".py",
   "mimetype": "text/x-python",
   "name": "python",
   "nbconvert_exporter": "python",
   "pygments_lexer": "ipython3",
   "version": "3.6.5"
  }
 },
 "nbformat": 4,
 "nbformat_minor": 2
}
