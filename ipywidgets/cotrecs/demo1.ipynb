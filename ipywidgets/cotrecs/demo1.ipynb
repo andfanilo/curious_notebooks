{
 "cells": [
  {
   "cell_type": "code",
   "execution_count": 1,
   "metadata": {},
   "outputs": [],
   "source": [
    "import numpy as np\n",
    "import matplotlib.pyplot as plt\n",
    "\n",
    "import ipywidgets as widgets\n",
    "\n",
    "np.random.seed(0)\n",
    "xmin = 0.01\n",
    "xmax = 1\n",
    "xres = 100"
   ]
  },
  {
   "cell_type": "markdown",
   "metadata": {},
   "source": [
    "## Manual regression widget"
   ]
  },
  {
   "cell_type": "code",
   "execution_count": 2,
   "metadata": {
    "scrolled": false
   },
   "outputs": [
    {
     "data": {
      "application/vnd.jupyter.widget-view+json": {
       "model_id": "18f0a41a729941c483ceeec7e234b02d",
       "version_major": 2,
       "version_minor": 0
      },
      "text/plain": [
       "VBox(children=(HTML(value='<h1>Regression</h1>', layout=Layout(padding='0 0 0 50px')), HBox(children=(VBox(chi…"
      ]
     },
     "metadata": {},
     "output_type": "display_data"
    }
   ],
   "source": [
    "# build dataset\n",
    "X_data = np.linspace(xmin, xmax, xres)\n",
    "y_data = np.polynomial.polynomial.polyval(X_data, [0, 2, 5]) + np.sin(8*X_data) + 0.5 * np.random.normal(size=xres)\n",
    "\n",
    "# build widgets\n",
    "title = widgets.HTML(value='<h1>Regression</h1>', layout={'padding': '0 0 0 50px'})\n",
    "\n",
    "w0_slider = widgets.FloatSlider(min=0, max=10.0, step=1) \n",
    "w0_ui = widgets.HBox([\n",
    "    widgets.Label(value='$$w_0$$'), \n",
    "    w0_slider\n",
    "])\n",
    "w1_slider = widgets.FloatSlider(min=0, max=10.0, step=1)\n",
    "w1_ui = widgets.HBox([\n",
    "    widgets.Label(value='$$w_1$$'), \n",
    "    w1_slider\n",
    "])\n",
    "w2_slider = widgets.FloatSlider(min=0, max=10.0, step=1)\n",
    "w2_ui = widgets.HBox([\n",
    "    widgets.Label(value='$$w_2$$'), \n",
    "    w2_slider\n",
    "])\n",
    "\n",
    "sliders_ui = widgets.VBox([w0_ui, w1_ui, w2_ui], layout={'margin':'10px 100px 10px 10px'})\n",
    "\n",
    "equation_output = widgets.Label(\n",
    "    value=r'$$f(x)=w_0 \\times x+w_1 \\times x^2 + sin(w_2 \\times x)$$', \n",
    "    layout={\n",
    "        'width': '60%', \n",
    "        'height': '60%'\n",
    "    })\n",
    "weights_ui = widgets.HBox([sliders_ui, equation_output])\n",
    "\n",
    "plot_output = widgets.Output()\n",
    "\n",
    "ui = widgets.VBox([title, weights_ui, plot_output], layout={'border':'1px solid black'})\n",
    "\n",
    "# build events\n",
    "def update_plot(ev):\n",
    "    plot_output.clear_output(wait=True)\n",
    "    with plot_output:\n",
    "        X_reg = np.linspace(xmin, xmax, 100).astype(np.float)\n",
    "        y_reg = np.polynomial.polynomial.polyval(X_reg, [0, w0_slider.value, w1_slider.value]) + np.sin(w2_slider.value * X_reg)\n",
    "        plt.plot(X_data, y_data, \"+\", X_reg, y_reg)\n",
    "        plt.title('Manual regression')\n",
    "        plt.xlabel('x')\n",
    "        plt.ylabel('f(x)')\n",
    "        plt.show()\n",
    "\n",
    "# wire events together\n",
    "w0_slider.observe(update_plot, names='value')\n",
    "w1_slider.observe(update_plot, names='value')\n",
    "w2_slider.observe(update_plot, names='value')\n",
    "update_plot(None) # initialize widget\n",
    "\n",
    "display(ui)"
   ]
  },
  {
   "cell_type": "code",
   "execution_count": null,
   "metadata": {},
   "outputs": [],
   "source": []
  }
 ],
 "metadata": {
  "kernelspec": {
   "display_name": "Python 3",
   "language": "python",
   "name": "python3"
  },
  "language_info": {
   "codemirror_mode": {
    "name": "ipython",
    "version": 3
   },
   "file_extension": ".py",
   "mimetype": "text/x-python",
   "name": "python",
   "nbconvert_exporter": "python",
   "pygments_lexer": "ipython3",
   "version": "3.6.7"
  },
  "widgets": {
   "application/vnd.jupyter.widget-state+json": {
    "state": {
     "18f0a41a729941c483ceeec7e234b02d": {
      "model_module": "@jupyter-widgets/controls",
      "model_module_version": "1.4.0",
      "model_name": "VBoxModel",
      "state": {
       "children": [
        "IPY_MODEL_2355e5f5adbc4f35808c9c5a061c401b",
        "IPY_MODEL_afbe59362dac4f66b333fa57a1eeaeec",
        "IPY_MODEL_fdea2c9a603641bb81f36cad2e46708e"
       ],
       "layout": "IPY_MODEL_adf2519a9b774f199c31070c094a2305"
      }
     },
     "2355e5f5adbc4f35808c9c5a061c401b": {
      "model_module": "@jupyter-widgets/controls",
      "model_module_version": "1.4.0",
      "model_name": "HTMLModel",
      "state": {
       "layout": "IPY_MODEL_92ed075193d64e45a3ffe80a2623bbd9",
       "style": "IPY_MODEL_952d980e0ac349878f7a2f6f6ce6e4e4",
       "value": "<h1>Regression</h1>"
      }
     },
     "25718a74af634358a64e6c63148b2cb2": {
      "model_module": "@jupyter-widgets/base",
      "model_module_version": "1.1.0",
      "model_name": "LayoutModel",
      "state": {}
     },
     "2e57673c7dfd4f7e894eb05bc0fd81ff": {
      "model_module": "@jupyter-widgets/controls",
      "model_module_version": "1.4.0",
      "model_name": "SliderStyleModel",
      "state": {
       "description_width": ""
      }
     },
     "4b8f5ca91a744813aa7fac28313f51e1": {
      "model_module": "@jupyter-widgets/base",
      "model_module_version": "1.1.0",
      "model_name": "LayoutModel",
      "state": {}
     },
     "5977285584ad4df482f95c1c96d6d54e": {
      "model_module": "@jupyter-widgets/controls",
      "model_module_version": "1.4.0",
      "model_name": "HBoxModel",
      "state": {
       "children": [
        "IPY_MODEL_5bf1a70735c146e1ac039e83caadf7a7",
        "IPY_MODEL_ae42b21a491f4256bf0a6a2129d40c6c"
       ],
       "layout": "IPY_MODEL_985d305412ef4540b666139d9c38a0fb"
      }
     },
     "5bf1a70735c146e1ac039e83caadf7a7": {
      "model_module": "@jupyter-widgets/controls",
      "model_module_version": "1.4.0",
      "model_name": "LabelModel",
      "state": {
       "layout": "IPY_MODEL_4b8f5ca91a744813aa7fac28313f51e1",
       "style": "IPY_MODEL_9ce39cf0ab824a8b887d88c53cd5230e",
       "value": "$$w_2$$"
      }
     },
     "64deaef40bc94429b8bd6a6b1dc54f9e": {
      "model_module": "@jupyter-widgets/controls",
      "model_module_version": "1.4.0",
      "model_name": "LabelModel",
      "state": {
       "layout": "IPY_MODEL_25718a74af634358a64e6c63148b2cb2",
       "style": "IPY_MODEL_a6729a1934d44a6fa010117725d8ee8a",
       "value": "$$w_1$$"
      }
     },
     "6894ef3207bd4c8b908a2d16f06784da": {
      "model_module": "@jupyter-widgets/base",
      "model_module_version": "1.1.0",
      "model_name": "LayoutModel",
      "state": {}
     },
     "71cb0f5b5c7a4335a9fd6ea14a76decf": {
      "model_module": "@jupyter-widgets/controls",
      "model_module_version": "1.4.0",
      "model_name": "HBoxModel",
      "state": {
       "children": [
        "IPY_MODEL_a97cd8d10fbe4de3a71d70602c405382",
        "IPY_MODEL_80f2b19f28f64c19bad9cbf4dbd326f0"
       ],
       "layout": "IPY_MODEL_770582e246ee40a391e32a0e24b594c6"
      }
     },
     "743dcbe70c6445e59fbaea011e95cd80": {
      "model_module": "@jupyter-widgets/controls",
      "model_module_version": "1.4.0",
      "model_name": "HBoxModel",
      "state": {
       "children": [
        "IPY_MODEL_64deaef40bc94429b8bd6a6b1dc54f9e",
        "IPY_MODEL_fe9e915a2de04ab9a09097f1a6b6fe0f"
       ],
       "layout": "IPY_MODEL_9403d877ad934f1089ca436578322d77"
      }
     },
     "765c3311ba24493fb600d5c2777793bc": {
      "model_module": "@jupyter-widgets/controls",
      "model_module_version": "1.4.0",
      "model_name": "SliderStyleModel",
      "state": {
       "description_width": ""
      }
     },
     "770582e246ee40a391e32a0e24b594c6": {
      "model_module": "@jupyter-widgets/base",
      "model_module_version": "1.1.0",
      "model_name": "LayoutModel",
      "state": {}
     },
     "7e31d29b33234e9f8ad72e0423690f0c": {
      "model_module": "@jupyter-widgets/base",
      "model_module_version": "1.1.0",
      "model_name": "LayoutModel",
      "state": {
       "margin": "10px 100px 10px 10px"
      }
     },
     "80f2b19f28f64c19bad9cbf4dbd326f0": {
      "model_module": "@jupyter-widgets/controls",
      "model_module_version": "1.4.0",
      "model_name": "FloatSliderModel",
      "state": {
       "layout": "IPY_MODEL_6894ef3207bd4c8b908a2d16f06784da",
       "max": 10,
       "style": "IPY_MODEL_2e57673c7dfd4f7e894eb05bc0fd81ff"
      }
     },
     "92ed075193d64e45a3ffe80a2623bbd9": {
      "model_module": "@jupyter-widgets/base",
      "model_module_version": "1.1.0",
      "model_name": "LayoutModel",
      "state": {
       "padding": "0 0 0 50px"
      }
     },
     "9403d877ad934f1089ca436578322d77": {
      "model_module": "@jupyter-widgets/base",
      "model_module_version": "1.1.0",
      "model_name": "LayoutModel",
      "state": {}
     },
     "952d980e0ac349878f7a2f6f6ce6e4e4": {
      "model_module": "@jupyter-widgets/controls",
      "model_module_version": "1.4.0",
      "model_name": "DescriptionStyleModel",
      "state": {
       "description_width": ""
      }
     },
     "985d305412ef4540b666139d9c38a0fb": {
      "model_module": "@jupyter-widgets/base",
      "model_module_version": "1.1.0",
      "model_name": "LayoutModel",
      "state": {}
     },
     "9ce39cf0ab824a8b887d88c53cd5230e": {
      "model_module": "@jupyter-widgets/controls",
      "model_module_version": "1.4.0",
      "model_name": "DescriptionStyleModel",
      "state": {
       "description_width": ""
      }
     },
     "a3e0160ae7444523827e56c43e9248c2": {
      "model_module": "@jupyter-widgets/base",
      "model_module_version": "1.1.0",
      "model_name": "LayoutModel",
      "state": {}
     },
     "a6729a1934d44a6fa010117725d8ee8a": {
      "model_module": "@jupyter-widgets/controls",
      "model_module_version": "1.4.0",
      "model_name": "DescriptionStyleModel",
      "state": {
       "description_width": ""
      }
     },
     "a74a9eeef2954bf8b0cd3ef0ea342b70": {
      "model_module": "@jupyter-widgets/base",
      "model_module_version": "1.1.0",
      "model_name": "LayoutModel",
      "state": {}
     },
     "a885f016f2364452ba8acd9b70c4c502": {
      "model_module": "@jupyter-widgets/base",
      "model_module_version": "1.1.0",
      "model_name": "LayoutModel",
      "state": {}
     },
     "a97cd8d10fbe4de3a71d70602c405382": {
      "model_module": "@jupyter-widgets/controls",
      "model_module_version": "1.4.0",
      "model_name": "LabelModel",
      "state": {
       "layout": "IPY_MODEL_d46251a66d55449ba4fff98715f0b522",
       "style": "IPY_MODEL_f838d4b60a09464880449e29cfd42732",
       "value": "$$w_0$$"
      }
     },
     "adf2519a9b774f199c31070c094a2305": {
      "model_module": "@jupyter-widgets/base",
      "model_module_version": "1.1.0",
      "model_name": "LayoutModel",
      "state": {
       "border": "1px solid black"
      }
     },
     "ae42b21a491f4256bf0a6a2129d40c6c": {
      "model_module": "@jupyter-widgets/controls",
      "model_module_version": "1.4.0",
      "model_name": "FloatSliderModel",
      "state": {
       "layout": "IPY_MODEL_e4a5221b834e4ce1a844e5f25f31e5ad",
       "max": 10,
       "style": "IPY_MODEL_c2d895d7e9044cf8a4eb6640fe7907f9"
      }
     },
     "afbe59362dac4f66b333fa57a1eeaeec": {
      "model_module": "@jupyter-widgets/controls",
      "model_module_version": "1.4.0",
      "model_name": "HBoxModel",
      "state": {
       "children": [
        "IPY_MODEL_d846d6161fda45a6b8a8499f0d49332b",
        "IPY_MODEL_b565fdd4da124daaa969ac6baf187da2"
       ],
       "layout": "IPY_MODEL_a885f016f2364452ba8acd9b70c4c502"
      }
     },
     "b565fdd4da124daaa969ac6baf187da2": {
      "model_module": "@jupyter-widgets/controls",
      "model_module_version": "1.4.0",
      "model_name": "LabelModel",
      "state": {
       "layout": "IPY_MODEL_d2ab438739a44d9fbbddf3291d0ac22a",
       "style": "IPY_MODEL_efa9648235214c55acf06bc29aabfdf0",
       "value": "$$f(x)=w_0 \\times x+w_1 \\times x^2 + sin(w_2 \\times x)$$"
      }
     },
     "c2d895d7e9044cf8a4eb6640fe7907f9": {
      "model_module": "@jupyter-widgets/controls",
      "model_module_version": "1.4.0",
      "model_name": "SliderStyleModel",
      "state": {
       "description_width": ""
      }
     },
     "d2ab438739a44d9fbbddf3291d0ac22a": {
      "model_module": "@jupyter-widgets/base",
      "model_module_version": "1.1.0",
      "model_name": "LayoutModel",
      "state": {
       "height": "60%",
       "width": "60%"
      }
     },
     "d46251a66d55449ba4fff98715f0b522": {
      "model_module": "@jupyter-widgets/base",
      "model_module_version": "1.1.0",
      "model_name": "LayoutModel",
      "state": {}
     },
     "d846d6161fda45a6b8a8499f0d49332b": {
      "model_module": "@jupyter-widgets/controls",
      "model_module_version": "1.4.0",
      "model_name": "VBoxModel",
      "state": {
       "children": [
        "IPY_MODEL_71cb0f5b5c7a4335a9fd6ea14a76decf",
        "IPY_MODEL_743dcbe70c6445e59fbaea011e95cd80",
        "IPY_MODEL_5977285584ad4df482f95c1c96d6d54e"
       ],
       "layout": "IPY_MODEL_7e31d29b33234e9f8ad72e0423690f0c"
      }
     },
     "e4a5221b834e4ce1a844e5f25f31e5ad": {
      "model_module": "@jupyter-widgets/base",
      "model_module_version": "1.1.0",
      "model_name": "LayoutModel",
      "state": {}
     },
     "efa9648235214c55acf06bc29aabfdf0": {
      "model_module": "@jupyter-widgets/controls",
      "model_module_version": "1.4.0",
      "model_name": "DescriptionStyleModel",
      "state": {
       "description_width": ""
      }
     },
     "f838d4b60a09464880449e29cfd42732": {
      "model_module": "@jupyter-widgets/controls",
      "model_module_version": "1.4.0",
      "model_name": "DescriptionStyleModel",
      "state": {
       "description_width": ""
      }
     },
     "fdea2c9a603641bb81f36cad2e46708e": {
      "model_module": "@jupyter-widgets/output",
      "model_module_version": "1.0.0",
      "model_name": "OutputModel",
      "state": {
       "layout": "IPY_MODEL_a3e0160ae7444523827e56c43e9248c2",
       "outputs": [
        {
         "data": {
          "image/png": "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\n",
          "text/plain": "<Figure size 432x288 with 1 Axes>"
         },
         "metadata": {
          "needs_background": "light"
         },
         "output_type": "display_data"
        }
       ]
      }
     },
     "fe9e915a2de04ab9a09097f1a6b6fe0f": {
      "model_module": "@jupyter-widgets/controls",
      "model_module_version": "1.4.0",
      "model_name": "FloatSliderModel",
      "state": {
       "layout": "IPY_MODEL_a74a9eeef2954bf8b0cd3ef0ea342b70",
       "max": 10,
       "style": "IPY_MODEL_765c3311ba24493fb600d5c2777793bc"
      }
     }
    },
    "version_major": 2,
    "version_minor": 0
   }
  }
 },
 "nbformat": 4,
 "nbformat_minor": 2
}
