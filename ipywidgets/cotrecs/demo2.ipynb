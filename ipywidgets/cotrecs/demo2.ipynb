{
 "cells": [
  {
   "cell_type": "code",
   "execution_count": 1,
   "metadata": {},
   "outputs": [],
   "source": [
    "import numpy as np\n",
    "import matplotlib.pyplot as plt\n",
    "from sklearn.metrics import mean_squared_error\n",
    "from math import sqrt\n",
    "\n",
    "import ipywidgets as widgets\n",
    "\n",
    "np.random.seed(0)\n",
    "xmin = 0.01\n",
    "xmax = 1\n",
    "xres = 100"
   ]
  },
  {
   "cell_type": "markdown",
   "metadata": {},
   "source": [
    "## RMSE manual"
   ]
  },
  {
   "cell_type": "code",
   "execution_count": 2,
   "metadata": {},
   "outputs": [
    {
     "data": {
      "application/vnd.jupyter.widget-view+json": {
       "model_id": "bbee0cedd19c4f2ea1b68091260d9c68",
       "version_major": 2,
       "version_minor": 0
      },
      "text/plain": [
       "VBox(children=(VBox(children=(HBox(children=(Label(value='$$w_0$$'), FloatSlider(value=0.0, max=10.0, step=1.0…"
      ]
     },
     "metadata": {},
     "output_type": "display_data"
    }
   ],
   "source": [
    "# build dataset\n",
    "X_data = np.linspace(xmin, xmax, xres)\n",
    "y_data = np.polynomial.polynomial.polyval(X_data, [0, 2, 5]) + np.sin(8*X_data) + 0.5 * np.random.normal(size=xres)\n",
    "\n",
    "# build widgets\n",
    "w0_slider = widgets.FloatSlider(min=0, max=10.0, step=1) \n",
    "w0_ui = widgets.HBox([\n",
    "    widgets.Label(value='$$w_0$$'), \n",
    "    w0_slider\n",
    "])\n",
    "w1_slider = widgets.FloatSlider(min=0, max=10.0, step=1)\n",
    "w1_ui = widgets.HBox([\n",
    "    widgets.Label(value='$$w_1$$'), \n",
    "    w1_slider\n",
    "])\n",
    "w2_slider = widgets.FloatSlider(min=0, max=100.0, step=1)\n",
    "w2_ui = widgets.HBox([\n",
    "    widgets.Label(value='$$w_2$$'), \n",
    "    w2_slider\n",
    "])\n",
    "sliders_ui = widgets.VBox([w0_ui, w1_ui, w2_ui], layout={'margin':'10px 100px 10px 10px'})\n",
    "\n",
    "plot_output = widgets.Output()\n",
    "\n",
    "rmse_output = widgets.HTML()\n",
    "rmse_progress = widgets.FloatProgress(\n",
    "    min=0,\n",
    "    max=5.0,\n",
    "    step=0.1,\n",
    "    description='RMSE :',\n",
    "    bar_style='info',\n",
    "    orientation='horizontal'\n",
    ")\n",
    "rmse_ui = widgets.HBox([rmse_progress, rmse_output], layout={'margin':'10px 10px 10px 10px'})\n",
    "\n",
    "ui = widgets.VBox([sliders_ui, plot_output, rmse_ui], layout={'border':'1px solid black'})\n",
    "\n",
    "# build events\n",
    "def update_plot(ev):\n",
    "    plot_output.clear_output(wait=True)\n",
    "    with plot_output:\n",
    "        fig, (ax1, ax2) = plt.subplots(1, 2, figsize=(14,5))\n",
    "        X_reg = np.linspace(xmin, xmax, 100)\n",
    "        y_reg = np.polynomial.polynomial.polyval(X_reg, [0, w0_slider.value, w1_slider.value]) + np.sin(w2_slider.value * X_reg)\n",
    "        ax1.plot(X_data, y_data, \"+\", X_reg, y_reg)\n",
    "        ax2.bar(X_data, np.abs(y_data - y_reg), width=0.1)\n",
    "        ax2.axis([xmin, xmax, 0, 10])\n",
    "        plt.show()\n",
    "        \n",
    "        rmse_value = sqrt(mean_squared_error(y_data, y_reg))\n",
    "        rmse_output.value = str(rmse_value)\n",
    "        rmse_progress.value = rmse_value\n",
    "\n",
    "# wire events together\n",
    "w0_slider.observe(update_plot, names='value')\n",
    "w1_slider.observe(update_plot, names='value')\n",
    "w2_slider.observe(update_plot, names='value')\n",
    "update_plot(None) # initialize widget\n",
    "\n",
    "display(ui)"
   ]
  },
  {
   "cell_type": "code",
   "execution_count": null,
   "metadata": {},
   "outputs": [],
   "source": []
  }
 ],
 "metadata": {
  "kernelspec": {
   "display_name": "Python 3",
   "language": "python",
   "name": "python3"
  },
  "language_info": {
   "codemirror_mode": {
    "name": "ipython",
    "version": 3
   },
   "file_extension": ".py",
   "mimetype": "text/x-python",
   "name": "python",
   "nbconvert_exporter": "python",
   "pygments_lexer": "ipython3",
   "version": "3.6.7"
  },
  "widgets": {
   "application/vnd.jupyter.widget-state+json": {
    "state": {
     "077157baf88c47c8b44b67140d91d922": {
      "model_module": "@jupyter-widgets/controls",
      "model_module_version": "1.4.0",
      "model_name": "SliderStyleModel",
      "state": {
       "description_width": ""
      }
     },
     "159bb87dcde244d2b45c8d5fa7318f8c": {
      "model_module": "@jupyter-widgets/controls",
      "model_module_version": "1.4.0",
      "model_name": "DescriptionStyleModel",
      "state": {
       "description_width": ""
      }
     },
     "19d7b10b60cb44c78bba734cf55b7069": {
      "model_module": "@jupyter-widgets/controls",
      "model_module_version": "1.4.0",
      "model_name": "HBoxModel",
      "state": {
       "children": [
        "IPY_MODEL_f29ee77f0fd64823b20ce7f9f3caaf9f",
        "IPY_MODEL_701ed9b146854a1187139d5c0c7784fe"
       ],
       "layout": "IPY_MODEL_80cbe35dce2e419cbf3b3ba8c1330c51"
      }
     },
     "1d5c064478064307a58b122ecb152531": {
      "model_module": "@jupyter-widgets/base",
      "model_module_version": "1.1.0",
      "model_name": "LayoutModel",
      "state": {}
     },
     "34589d1ec364439d9d00fd05c2d54c78": {
      "model_module": "@jupyter-widgets/controls",
      "model_module_version": "1.4.0",
      "model_name": "LabelModel",
      "state": {
       "layout": "IPY_MODEL_7d51da659f6548e7bef724eaeb617255",
       "style": "IPY_MODEL_159bb87dcde244d2b45c8d5fa7318f8c",
       "value": "$$w_0$$"
      }
     },
     "45dd77c133464cbc82b1af8c2bada438": {
      "model_module": "@jupyter-widgets/base",
      "model_module_version": "1.1.0",
      "model_name": "LayoutModel",
      "state": {}
     },
     "463f8c436e24472081034b330240c514": {
      "model_module": "@jupyter-widgets/base",
      "model_module_version": "1.1.0",
      "model_name": "LayoutModel",
      "state": {}
     },
     "464d0b9bc83b4e72b8638d0952e55d6e": {
      "model_module": "@jupyter-widgets/controls",
      "model_module_version": "1.4.0",
      "model_name": "SliderStyleModel",
      "state": {
       "description_width": ""
      }
     },
     "47b506476a0d4c80a5c625b53768d98c": {
      "model_module": "@jupyter-widgets/controls",
      "model_module_version": "1.4.0",
      "model_name": "FloatSliderModel",
      "state": {
       "layout": "IPY_MODEL_603e34c2344d435a864f975693db330e",
       "style": "IPY_MODEL_077157baf88c47c8b44b67140d91d922"
      }
     },
     "5409d2fde4324f10b60e534d7cfc50b8": {
      "model_module": "@jupyter-widgets/controls",
      "model_module_version": "1.4.0",
      "model_name": "HBoxModel",
      "state": {
       "children": [
        "IPY_MODEL_34589d1ec364439d9d00fd05c2d54c78",
        "IPY_MODEL_99a7e23038ba45c5a0744d3d5569d4a0"
       ],
       "layout": "IPY_MODEL_a11a27f5d1624cb8a82616be680e8812"
      }
     },
     "603e34c2344d435a864f975693db330e": {
      "model_module": "@jupyter-widgets/base",
      "model_module_version": "1.1.0",
      "model_name": "LayoutModel",
      "state": {}
     },
     "607b32a3359947878e7641c0501dcc64": {
      "model_module": "@jupyter-widgets/base",
      "model_module_version": "1.1.0",
      "model_name": "LayoutModel",
      "state": {}
     },
     "701ed9b146854a1187139d5c0c7784fe": {
      "model_module": "@jupyter-widgets/controls",
      "model_module_version": "1.4.0",
      "model_name": "HTMLModel",
      "state": {
       "layout": "IPY_MODEL_ff80905aaa7b4086a481540db0b90f71",
       "style": "IPY_MODEL_9d8b9fb831524136bf142211e4e87e10",
       "value": "3.654203177300697"
      }
     },
     "7d51da659f6548e7bef724eaeb617255": {
      "model_module": "@jupyter-widgets/base",
      "model_module_version": "1.1.0",
      "model_name": "LayoutModel",
      "state": {}
     },
     "7db21303a612470fa0f2880b3a00d0a3": {
      "model_module": "@jupyter-widgets/controls",
      "model_module_version": "1.4.0",
      "model_name": "VBoxModel",
      "state": {
       "children": [
        "IPY_MODEL_5409d2fde4324f10b60e534d7cfc50b8",
        "IPY_MODEL_d11dd953a80c417ba3c2da2dd4d6ec43",
        "IPY_MODEL_d78f3d78bc3741f8bef6fb94c91f6f0b"
       ],
       "layout": "IPY_MODEL_c2f4cf759d2f41e3b8d82095fd67683d"
      }
     },
     "7ed760bca8c94ad89161826b5f1cee18": {
      "model_module": "@jupyter-widgets/base",
      "model_module_version": "1.1.0",
      "model_name": "LayoutModel",
      "state": {
       "border": "1px solid black"
      }
     },
     "80cbe35dce2e419cbf3b3ba8c1330c51": {
      "model_module": "@jupyter-widgets/base",
      "model_module_version": "1.1.0",
      "model_name": "LayoutModel",
      "state": {
       "margin": "10px 10px 10px 10px"
      }
     },
     "99a7e23038ba45c5a0744d3d5569d4a0": {
      "model_module": "@jupyter-widgets/controls",
      "model_module_version": "1.4.0",
      "model_name": "FloatSliderModel",
      "state": {
       "layout": "IPY_MODEL_607b32a3359947878e7641c0501dcc64",
       "max": 10,
       "style": "IPY_MODEL_ba9975a5333d4cc4b7a2c8d22c94fa31"
      }
     },
     "9d8b9fb831524136bf142211e4e87e10": {
      "model_module": "@jupyter-widgets/controls",
      "model_module_version": "1.4.0",
      "model_name": "DescriptionStyleModel",
      "state": {
       "description_width": ""
      }
     },
     "a11a27f5d1624cb8a82616be680e8812": {
      "model_module": "@jupyter-widgets/base",
      "model_module_version": "1.1.0",
      "model_name": "LayoutModel",
      "state": {}
     },
     "a7bc30a5f5b1467ebe8e7f43462560ad": {
      "model_module": "@jupyter-widgets/base",
      "model_module_version": "1.1.0",
      "model_name": "LayoutModel",
      "state": {}
     },
     "b504ee4b83fc4443b3f1106c749feff5": {
      "model_module": "@jupyter-widgets/base",
      "model_module_version": "1.1.0",
      "model_name": "LayoutModel",
      "state": {}
     },
     "b731b6a90195452ba3ccfe0d4eff0c81": {
      "model_module": "@jupyter-widgets/controls",
      "model_module_version": "1.4.0",
      "model_name": "ProgressStyleModel",
      "state": {
       "description_width": ""
      }
     },
     "b7b7eeb7b1164f04b25ef6ee5986349d": {
      "model_module": "@jupyter-widgets/output",
      "model_module_version": "1.0.0",
      "model_name": "OutputModel",
      "state": {
       "layout": "IPY_MODEL_c68d255f52464940b6c7e568b0eeb0a9",
       "outputs": [
        {
         "data": {
          "image/png": "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\n",
          "text/plain": "<Figure size 1008x360 with 2 Axes>"
         },
         "metadata": {
          "needs_background": "light"
         },
         "output_type": "display_data"
        }
       ]
      }
     },
     "ba9975a5333d4cc4b7a2c8d22c94fa31": {
      "model_module": "@jupyter-widgets/controls",
      "model_module_version": "1.4.0",
      "model_name": "SliderStyleModel",
      "state": {
       "description_width": ""
      }
     },
     "bbee0cedd19c4f2ea1b68091260d9c68": {
      "model_module": "@jupyter-widgets/controls",
      "model_module_version": "1.4.0",
      "model_name": "VBoxModel",
      "state": {
       "children": [
        "IPY_MODEL_7db21303a612470fa0f2880b3a00d0a3",
        "IPY_MODEL_b7b7eeb7b1164f04b25ef6ee5986349d",
        "IPY_MODEL_19d7b10b60cb44c78bba734cf55b7069"
       ],
       "layout": "IPY_MODEL_7ed760bca8c94ad89161826b5f1cee18"
      }
     },
     "c2f4cf759d2f41e3b8d82095fd67683d": {
      "model_module": "@jupyter-widgets/base",
      "model_module_version": "1.1.0",
      "model_name": "LayoutModel",
      "state": {
       "margin": "10px 100px 10px 10px"
      }
     },
     "c68d255f52464940b6c7e568b0eeb0a9": {
      "model_module": "@jupyter-widgets/base",
      "model_module_version": "1.1.0",
      "model_name": "LayoutModel",
      "state": {}
     },
     "d11dd953a80c417ba3c2da2dd4d6ec43": {
      "model_module": "@jupyter-widgets/controls",
      "model_module_version": "1.4.0",
      "model_name": "HBoxModel",
      "state": {
       "children": [
        "IPY_MODEL_ee48b9ca30ee486e8b3c0eaf6f8c4c51",
        "IPY_MODEL_db2bfed4b03545a582fd1c434757b303"
       ],
       "layout": "IPY_MODEL_b504ee4b83fc4443b3f1106c749feff5"
      }
     },
     "d78f3d78bc3741f8bef6fb94c91f6f0b": {
      "model_module": "@jupyter-widgets/controls",
      "model_module_version": "1.4.0",
      "model_name": "HBoxModel",
      "state": {
       "children": [
        "IPY_MODEL_f0159d8f90364cd4af4f036cbba209b8",
        "IPY_MODEL_47b506476a0d4c80a5c625b53768d98c"
       ],
       "layout": "IPY_MODEL_463f8c436e24472081034b330240c514"
      }
     },
     "db2bfed4b03545a582fd1c434757b303": {
      "model_module": "@jupyter-widgets/controls",
      "model_module_version": "1.4.0",
      "model_name": "FloatSliderModel",
      "state": {
       "layout": "IPY_MODEL_fa99350a1aed4598a5cfcf9462005ac3",
       "max": 10,
       "style": "IPY_MODEL_464d0b9bc83b4e72b8638d0952e55d6e"
      }
     },
     "e6143bf4a85b4cdca048015e09267286": {
      "model_module": "@jupyter-widgets/controls",
      "model_module_version": "1.4.0",
      "model_name": "DescriptionStyleModel",
      "state": {
       "description_width": ""
      }
     },
     "e9cfe7177f5e4ad89eec3b867a3a45b3": {
      "model_module": "@jupyter-widgets/controls",
      "model_module_version": "1.4.0",
      "model_name": "DescriptionStyleModel",
      "state": {
       "description_width": ""
      }
     },
     "ee48b9ca30ee486e8b3c0eaf6f8c4c51": {
      "model_module": "@jupyter-widgets/controls",
      "model_module_version": "1.4.0",
      "model_name": "LabelModel",
      "state": {
       "layout": "IPY_MODEL_1d5c064478064307a58b122ecb152531",
       "style": "IPY_MODEL_e9cfe7177f5e4ad89eec3b867a3a45b3",
       "value": "$$w_1$$"
      }
     },
     "f0159d8f90364cd4af4f036cbba209b8": {
      "model_module": "@jupyter-widgets/controls",
      "model_module_version": "1.4.0",
      "model_name": "LabelModel",
      "state": {
       "layout": "IPY_MODEL_45dd77c133464cbc82b1af8c2bada438",
       "style": "IPY_MODEL_e6143bf4a85b4cdca048015e09267286",
       "value": "$$w_2$$"
      }
     },
     "f29ee77f0fd64823b20ce7f9f3caaf9f": {
      "model_module": "@jupyter-widgets/controls",
      "model_module_version": "1.4.0",
      "model_name": "FloatProgressModel",
      "state": {
       "bar_style": "info",
       "description": "RMSE :",
       "layout": "IPY_MODEL_a7bc30a5f5b1467ebe8e7f43462560ad",
       "max": 5,
       "style": "IPY_MODEL_b731b6a90195452ba3ccfe0d4eff0c81",
       "value": 3.654203177300697
      }
     },
     "fa99350a1aed4598a5cfcf9462005ac3": {
      "model_module": "@jupyter-widgets/base",
      "model_module_version": "1.1.0",
      "model_name": "LayoutModel",
      "state": {}
     },
     "ff80905aaa7b4086a481540db0b90f71": {
      "model_module": "@jupyter-widgets/base",
      "model_module_version": "1.1.0",
      "model_name": "LayoutModel",
      "state": {}
     }
    },
    "version_major": 2,
    "version_minor": 0
   }
  }
 },
 "nbformat": 4,
 "nbformat_minor": 2
}
