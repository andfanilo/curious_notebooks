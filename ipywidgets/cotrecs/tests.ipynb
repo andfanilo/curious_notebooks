{
 "cells": [
  {
   "cell_type": "markdown",
   "metadata": {},
   "source": [
    "# Demos"
   ]
  },
  {
   "cell_type": "code",
   "execution_count": 8,
   "metadata": {},
   "outputs": [],
   "source": [
    "import numpy as np\n",
    "import pandas as pd \n",
    "import matplotlib.pyplot as plt\n",
    "from scipy.special import expit\n",
    "\n",
    "from __future__ import print_function\n",
    "from ipywidgets import interact, fixed, Layout\n",
    "import ipywidgets as widgets\n",
    "\n",
    "np.random.seed(0)\n",
    "xmin = -5\n",
    "xmax = 5"
   ]
  },
  {
   "cell_type": "markdown",
   "metadata": {},
   "source": [
    "## Training on ipywidgets : interact\n",
    "\n",
    "https://ipywidgets.readthedocs.io"
   ]
  },
  {
   "cell_type": "code",
   "execution_count": 7,
   "metadata": {},
   "outputs": [],
   "source": [
    "def f(x):\n",
    "    return x"
   ]
  },
  {
   "cell_type": "code",
   "execution_count": 8,
   "metadata": {},
   "outputs": [
    {
     "data": {
      "application/vnd.jupyter.widget-view+json": {
       "model_id": "381328a1c20c4e23a306185122e7b2f5",
       "version_major": 2,
       "version_minor": 0
      },
      "text/html": [
       "<p>Failed to display Jupyter Widget of type <code>interactive</code>.</p>\n",
       "<p>\n",
       "  If you're reading this message in the Jupyter Notebook or JupyterLab Notebook, it may mean\n",
       "  that the widgets JavaScript is still loading. If this message persists, it\n",
       "  likely means that the widgets JavaScript library is either not installed or\n",
       "  not enabled. See the <a href=\"https://ipywidgets.readthedocs.io/en/stable/user_install.html\">Jupyter\n",
       "  Widgets Documentation</a> for setup instructions.\n",
       "</p>\n",
       "<p>\n",
       "  If you're reading this message in another frontend (for example, a static\n",
       "  rendering on GitHub or <a href=\"https://nbviewer.jupyter.org/\">NBViewer</a>),\n",
       "  it may mean that your frontend doesn't currently support widgets.\n",
       "</p>\n"
      ],
      "text/plain": [
       "interactive(children=(IntSlider(value=10, description='x', max=30, min=-10), Output()), _dom_classes=('widget-interact',))"
      ]
     },
     "metadata": {},
     "output_type": "display_data"
    },
    {
     "data": {
      "text/plain": [
       "<function __main__.f>"
      ]
     },
     "execution_count": 8,
     "metadata": {},
     "output_type": "execute_result"
    }
   ],
   "source": [
    "interact(f, x=10)"
   ]
  },
  {
   "cell_type": "code",
   "execution_count": 25,
   "metadata": {},
   "outputs": [
    {
     "data": {
      "application/vnd.jupyter.widget-view+json": {
       "model_id": "b57cecd01abf4480b8d935d81121f0bb",
       "version_major": 2,
       "version_minor": 0
      },
      "text/html": [
       "<p>Failed to display Jupyter Widget of type <code>interactive</code>.</p>\n",
       "<p>\n",
       "  If you're reading this message in the Jupyter Notebook or JupyterLab Notebook, it may mean\n",
       "  that the widgets JavaScript is still loading. If this message persists, it\n",
       "  likely means that the widgets JavaScript library is either not installed or\n",
       "  not enabled. See the <a href=\"https://ipywidgets.readthedocs.io/en/stable/user_install.html\">Jupyter\n",
       "  Widgets Documentation</a> for setup instructions.\n",
       "</p>\n",
       "<p>\n",
       "  If you're reading this message in another frontend (for example, a static\n",
       "  rendering on GitHub or <a href=\"https://nbviewer.jupyter.org/\">NBViewer</a>),\n",
       "  it may mean that your frontend doesn't currently support widgets.\n",
       "</p>\n"
      ],
      "text/plain": [
       "interactive(children=(IntSlider(value=10, description='x', max=30, min=-10), FloatSlider(value=1.0, description='y', max=3.0, min=-1.0), Output()), _dom_classes=('widget-interact',))"
      ]
     },
     "metadata": {},
     "output_type": "display_data"
    }
   ],
   "source": [
    "@interact(x=widgets.IntSlider(min=-10,max=30,step=1,value=10), y=1.0)\n",
    "def g(x, y):\n",
    "    return (x, y)"
   ]
  },
  {
   "cell_type": "markdown",
   "metadata": {},
   "source": [
    "#### interact to rebuild plot everytime"
   ]
  },
  {
   "cell_type": "code",
   "execution_count": 81,
   "metadata": {},
   "outputs": [
    {
     "data": {
      "application/vnd.jupyter.widget-view+json": {
       "model_id": "fe12da68b1fc42d3946db450b3e9e4c9",
       "version_major": 2,
       "version_minor": 0
      },
      "text/html": [
       "<p>Failed to display Jupyter Widget of type <code>interactive</code>.</p>\n",
       "<p>\n",
       "  If you're reading this message in the Jupyter Notebook or JupyterLab Notebook, it may mean\n",
       "  that the widgets JavaScript is still loading. If this message persists, it\n",
       "  likely means that the widgets JavaScript library is either not installed or\n",
       "  not enabled. See the <a href=\"https://ipywidgets.readthedocs.io/en/stable/user_install.html\">Jupyter\n",
       "  Widgets Documentation</a> for setup instructions.\n",
       "</p>\n",
       "<p>\n",
       "  If you're reading this message in another frontend (for example, a static\n",
       "  rendering on GitHub or <a href=\"https://nbviewer.jupyter.org/\">NBViewer</a>),\n",
       "  it may mean that your frontend doesn't currently support widgets.\n",
       "</p>\n"
      ],
      "text/plain": [
       "interactive(children=(FloatSlider(value=0.0, description='w0', max=30.0, min=-30.0, step=1.0), FloatSlider(value=0.0, description='w1', max=30.0, min=-30.0, step=1.0), Output()), _dom_classes=('widget-interact',))"
      ]
     },
     "metadata": {},
     "output_type": "display_data"
    },
    {
     "data": {
      "text/plain": [
       "<function __main__.plot_dataset>"
      ]
     },
     "execution_count": 81,
     "metadata": {},
     "output_type": "execute_result"
    }
   ],
   "source": [
    "X = np.linspace(-5.0, 5.0, 100)\n",
    "y = (np.linspace(-5.0, 5.0, 100) > 0).astype(np.float) + .03 * np.random.normal(size=100)\n",
    "\n",
    "def plot_dataset(w0, w1, X, y):\n",
    "    X_logit = np.linspace(xmin, xmax, 100)\n",
    "    y_logit = expit(w0 + w1*X_logit)\n",
    "    plt.plot(X, y, \"+\", X_logit, y_logit)    \n",
    "\n",
    "interact(\n",
    "    plot_dataset, \n",
    "    w0=widgets.FloatSlider(min=-30.0, max=30.0, step=1),\n",
    "    w1=widgets.FloatSlider(min=-30.0, max=30.0, step=1),\n",
    "    X=fixed(X),\n",
    "    y=fixed(y)\n",
    ")"
   ]
  },
  {
   "cell_type": "markdown",
   "metadata": {},
   "source": [
    "## Training on ipywidgets : advanced control"
   ]
  },
  {
   "cell_type": "markdown",
   "metadata": {},
   "source": [
    "#### Exploring widgets"
   ]
  },
  {
   "cell_type": "code",
   "execution_count": 13,
   "metadata": {},
   "outputs": [],
   "source": [
    "w = widgets.IntSlider()"
   ]
  },
  {
   "cell_type": "markdown",
   "metadata": {},
   "source": [
    "Two views of the same widget so they are in sync\n",
    "\n",
    "So the w is like in global state"
   ]
  },
  {
   "cell_type": "code",
   "execution_count": 14,
   "metadata": {},
   "outputs": [
    {
     "data": {
      "application/vnd.jupyter.widget-view+json": {
       "model_id": "3d9c5394ce094464ace3957d1b26abfd",
       "version_major": 2,
       "version_minor": 0
      },
      "text/html": [
       "<p>Failed to display Jupyter Widget of type <code>IntSlider</code>.</p>\n",
       "<p>\n",
       "  If you're reading this message in the Jupyter Notebook or JupyterLab Notebook, it may mean\n",
       "  that the widgets JavaScript is still loading. If this message persists, it\n",
       "  likely means that the widgets JavaScript library is either not installed or\n",
       "  not enabled. See the <a href=\"https://ipywidgets.readthedocs.io/en/stable/user_install.html\">Jupyter\n",
       "  Widgets Documentation</a> for setup instructions.\n",
       "</p>\n",
       "<p>\n",
       "  If you're reading this message in another frontend (for example, a static\n",
       "  rendering on GitHub or <a href=\"https://nbviewer.jupyter.org/\">NBViewer</a>),\n",
       "  it may mean that your frontend doesn't currently support widgets.\n",
       "</p>\n"
      ],
      "text/plain": [
       "IntSlider(value=0)"
      ]
     },
     "metadata": {},
     "output_type": "display_data"
    }
   ],
   "source": [
    "w"
   ]
  },
  {
   "cell_type": "code",
   "execution_count": 15,
   "metadata": {},
   "outputs": [
    {
     "data": {
      "application/vnd.jupyter.widget-view+json": {
       "model_id": "3d9c5394ce094464ace3957d1b26abfd",
       "version_major": 2,
       "version_minor": 0
      },
      "text/html": [
       "<p>Failed to display Jupyter Widget of type <code>IntSlider</code>.</p>\n",
       "<p>\n",
       "  If you're reading this message in the Jupyter Notebook or JupyterLab Notebook, it may mean\n",
       "  that the widgets JavaScript is still loading. If this message persists, it\n",
       "  likely means that the widgets JavaScript library is either not installed or\n",
       "  not enabled. See the <a href=\"https://ipywidgets.readthedocs.io/en/stable/user_install.html\">Jupyter\n",
       "  Widgets Documentation</a> for setup instructions.\n",
       "</p>\n",
       "<p>\n",
       "  If you're reading this message in another frontend (for example, a static\n",
       "  rendering on GitHub or <a href=\"https://nbviewer.jupyter.org/\">NBViewer</a>),\n",
       "  it may mean that your frontend doesn't currently support widgets.\n",
       "</p>\n"
      ],
      "text/plain": [
       "IntSlider(value=0)"
      ]
     },
     "metadata": {},
     "output_type": "display_data"
    }
   ],
   "source": [
    "w"
   ]
  },
  {
   "cell_type": "code",
   "execution_count": 10,
   "metadata": {},
   "outputs": [
    {
     "data": {
      "text/plain": [
       "47"
      ]
     },
     "execution_count": 10,
     "metadata": {},
     "output_type": "execute_result"
    }
   ],
   "source": [
    "w.value"
   ]
  },
  {
   "cell_type": "code",
   "execution_count": 16,
   "metadata": {},
   "outputs": [
    {
     "data": {
      "text/plain": [
       "['_dom_classes',\n",
       " '_model_module',\n",
       " '_model_module_version',\n",
       " '_model_name',\n",
       " '_view_count',\n",
       " '_view_module',\n",
       " '_view_module_version',\n",
       " '_view_name',\n",
       " 'continuous_update',\n",
       " 'description',\n",
       " 'disabled',\n",
       " 'layout',\n",
       " 'max',\n",
       " 'min',\n",
       " 'orientation',\n",
       " 'readout',\n",
       " 'readout_format',\n",
       " 'step',\n",
       " 'style',\n",
       " 'value']"
      ]
     },
     "execution_count": 16,
     "metadata": {},
     "output_type": "execute_result"
    }
   ],
   "source": [
    "w.keys"
   ]
  },
  {
   "cell_type": "markdown",
   "metadata": {},
   "source": [
    "#### Output widget for advanced display\n",
    "\n",
    "The output widget forms the basis of how interact and related methods are implemented. It can also be used by itself to create rich layouts with widgets and code output."
   ]
  },
  {
   "cell_type": "code",
   "execution_count": 20,
   "metadata": {},
   "outputs": [
    {
     "data": {
      "application/vnd.jupyter.widget-view+json": {
       "model_id": "25872b34ec4642309fb6c37a82454ed8",
       "version_major": 2,
       "version_minor": 0
      },
      "text/html": [
       "<p>Failed to display Jupyter Widget of type <code>Output</code>.</p>\n",
       "<p>\n",
       "  If you're reading this message in the Jupyter Notebook or JupyterLab Notebook, it may mean\n",
       "  that the widgets JavaScript is still loading. If this message persists, it\n",
       "  likely means that the widgets JavaScript library is either not installed or\n",
       "  not enabled. See the <a href=\"https://ipywidgets.readthedocs.io/en/stable/user_install.html\">Jupyter\n",
       "  Widgets Documentation</a> for setup instructions.\n",
       "</p>\n",
       "<p>\n",
       "  If you're reading this message in another frontend (for example, a static\n",
       "  rendering on GitHub or <a href=\"https://nbviewer.jupyter.org/\">NBViewer</a>),\n",
       "  it may mean that your frontend doesn't currently support widgets.\n",
       "</p>\n"
      ],
      "text/plain": [
       "Output(layout=Layout(border='1px solid black'))"
      ]
     },
     "metadata": {},
     "output_type": "display_data"
    }
   ],
   "source": [
    "out = widgets.Output(layout={'border': '1px solid black'})\n",
    "out"
   ]
  },
  {
   "cell_type": "code",
   "execution_count": 21,
   "metadata": {},
   "outputs": [],
   "source": [
    "with out:\n",
    "    for i in range(10):\n",
    "        print(i, 'Hello world!')"
   ]
  },
  {
   "cell_type": "code",
   "execution_count": 36,
   "metadata": {},
   "outputs": [],
   "source": [
    "out.clear_output()"
   ]
  },
  {
   "cell_type": "code",
   "execution_count": 28,
   "metadata": {},
   "outputs": [],
   "source": [
    "out.close()"
   ]
  },
  {
   "cell_type": "code",
   "execution_count": 7,
   "metadata": {},
   "outputs": [],
   "source": [
    "??widgets.interactive_output"
   ]
  },
  {
   "cell_type": "markdown",
   "metadata": {},
   "source": [
    "##### interactive plot\n",
    "\n",
    "`clear_output` supports the keyword argument wait. With this set to `True`, the widget contents are not cleared immediately. Instead, they are cleared the next time the widget receives something to display. "
   ]
  },
  {
   "cell_type": "code",
   "execution_count": 32,
   "metadata": {},
   "outputs": [],
   "source": [
    "button_update = widgets.Button(description=\"Update plot\")\n",
    "slider = widgets.IntSlider(value=4, min=2, max=1000, step=1, continuous_update=False)\n",
    "button_ui = widgets.HBox([button_update, slider], layout=Layout(margin='10px 10px 10px 10px'))\n",
    "\n",
    "def update_plot(ev):\n",
    "    out.clear_output(wait=True)\n",
    "    with out:\n",
    "        plt.plot(np.random.rand(slider.value))\n",
    "        plt.ylabel('some numbers')\n",
    "        plt.show()\n",
    "\n",
    "button_update.on_click(update_plot)\n",
    "slider.observe(update_plot, names='value')\n",
    "\n",
    "out = widgets.Output()\n",
    "update_plot(None)\n",
    "\n",
    "ui = widgets.VBox([button_ui, out], layout={'border': '1px solid black'})"
   ]
  },
  {
   "cell_type": "code",
   "execution_count": 33,
   "metadata": {},
   "outputs": [
    {
     "data": {
      "application/vnd.jupyter.widget-view+json": {
       "model_id": "4ccf546f5eac466f8d9f20fa38e91e04",
       "version_major": 2,
       "version_minor": 0
      },
      "text/html": [
       "<p>Failed to display Jupyter Widget of type <code>VBox</code>.</p>\n",
       "<p>\n",
       "  If you're reading this message in the Jupyter Notebook or JupyterLab Notebook, it may mean\n",
       "  that the widgets JavaScript is still loading. If this message persists, it\n",
       "  likely means that the widgets JavaScript library is either not installed or\n",
       "  not enabled. See the <a href=\"https://ipywidgets.readthedocs.io/en/stable/user_install.html\">Jupyter\n",
       "  Widgets Documentation</a> for setup instructions.\n",
       "</p>\n",
       "<p>\n",
       "  If you're reading this message in another frontend (for example, a static\n",
       "  rendering on GitHub or <a href=\"https://nbviewer.jupyter.org/\">NBViewer</a>),\n",
       "  it may mean that your frontend doesn't currently support widgets.\n",
       "</p>\n"
      ],
      "text/plain": [
       "VBox(children=(HBox(children=(Button(description='Update plot', style=ButtonStyle()), IntSlider(value=4, continuous_update=False, max=1000, min=2)), layout=Layout(margin='10px 10px 10px 10px')), Output(outputs=({'output_type': 'display_data', 'data': {'text/plain': '<matplotlib.figure.Figure at 0xa3d8a90>', 'image/png': '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\\n'}, 'metadata': {}},))), layout=Layout(border='1px solid black'))"
      ]
     },
     "metadata": {},
     "output_type": "display_data"
    }
   ],
   "source": [
    "ui"
   ]
  },
  {
   "cell_type": "code",
   "execution_count": null,
   "metadata": {},
   "outputs": [],
   "source": []
  }
 ],
 "metadata": {
  "kernelspec": {
   "display_name": "Python 3",
   "language": "python",
   "name": "python3"
  },
  "language_info": {
   "codemirror_mode": {
    "name": "ipython",
    "version": 3
   },
   "file_extension": ".py",
   "mimetype": "text/x-python",
   "name": "python",
   "nbconvert_exporter": "python",
   "pygments_lexer": "ipython3",
   "version": "3.6.4"
  }
 },
 "nbformat": 4,
 "nbformat_minor": 2
}
