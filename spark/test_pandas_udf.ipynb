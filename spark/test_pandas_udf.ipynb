{
 "cells": [
  {
   "cell_type": "markdown",
   "metadata": {},
   "source": [
    "# Introducing Pandas UDF for PySpark\n",
    "\n",
    "### How to run your native Python code with PySpark, fast.\n",
    "\n",
    "From blog post [here](https://databricks.com/blog/2017/10/30/introducing-vectorized-udfs-for-pyspark.html). \n",
    "Notebook [here](https://databricks-prod-cloudfront.cloud.databricks.com/public/4027ec902e239c93eaaa8714f173bcfc/1281142885375883/2174302049319883/7729323681064935/latest.html)"
   ]
  },
  {
   "cell_type": "code",
   "execution_count": 21,
   "metadata": {},
   "outputs": [],
   "source": [
    "from pyspark import SparkConf\n",
    "from pyspark.sql import SparkSession, Row\n",
    "\n",
    "from pyspark.sql.types import *\n",
    "from pyspark.sql.functions import col, count, rand, collect_list, explode, struct, count, lit\n",
    "from pyspark.sql.functions import pandas_udf, PandasUDFType, udf\n",
    "\n",
    "import numpy as np\n",
    "import pandas as pd\n",
    "from scipy import stats\n",
    "import matplotlib.pyplot as plt"
   ]
  },
  {
   "cell_type": "code",
   "execution_count": 2,
   "metadata": {},
   "outputs": [
    {
     "data": {
      "text/html": [
       "\n",
       "            <div>\n",
       "                <p><b>SparkSession - in-memory</b></p>\n",
       "                \n",
       "        <div>\n",
       "            <p><b>SparkContext</b></p>\n",
       "\n",
       "            <p><a href=\"http://EFR02426.fr01.awl.atosorigin.net:4040\">Spark UI</a></p>\n",
       "\n",
       "            <dl>\n",
       "              <dt>Version</dt>\n",
       "                <dd><code>v2.3.0</code></dd>\n",
       "              <dt>Master</dt>\n",
       "                <dd><code>local[*]</code></dd>\n",
       "              <dt>AppName</dt>\n",
       "                <dd><code>pandas_udf</code></dd>\n",
       "            </dl>\n",
       "        </div>\n",
       "        \n",
       "            </div>\n",
       "        "
      ],
      "text/plain": [
       "<pyspark.sql.session.SparkSession at 0x95c1668>"
      ]
     },
     "execution_count": 2,
     "metadata": {},
     "output_type": "execute_result"
    }
   ],
   "source": [
    "conf = SparkConf().setAppName('pandas_udf').setMaster('local[*]').set('spark.driver.memory', '1g').set('spark.executor.memory', '2g')\n",
    "spark = SparkSession.builder.config(conf=conf).getOrCreate()\n",
    "spark"
   ]
  },
  {
   "cell_type": "code",
   "execution_count": 3,
   "metadata": {},
   "outputs": [
    {
     "name": "stdout",
     "output_type": "stream",
     "text": [
      "10000000\n",
      "+---+--------------------+\n",
      "| id|                   v|\n",
      "+---+--------------------+\n",
      "|  0| 0.22692148922641953|\n",
      "|  0|  0.8870604758495169|\n",
      "|  0|  0.8196935133622535|\n",
      "|  0|  0.8839905027549613|\n",
      "|  0| 0.37285424420874225|\n",
      "|  0|  0.7628067085730941|\n",
      "|  0|  0.6881444107531646|\n",
      "|  0| 0.35952900189067527|\n",
      "|  0|0.052865813985299215|\n",
      "|  0|  0.9586827215607796|\n",
      "+---+--------------------+\n",
      "only showing top 10 rows\n",
      "\n"
     ]
    }
   ],
   "source": [
    "df = spark.range(0, 10 * 1000 * 1000).withColumn('id', (col('id') / 10000).cast('integer')).withColumn('v', rand())\n",
    "df.cache()\n",
    "print(df.count())\n",
    "df.show(10)"
   ]
  },
  {
   "cell_type": "markdown",
   "metadata": {},
   "source": [
    "## Plus One"
   ]
  },
  {
   "cell_type": "markdown",
   "metadata": {},
   "source": [
    "First, let's define row-at-a-time UDFs"
   ]
  },
  {
   "cell_type": "code",
   "execution_count": 4,
   "metadata": {},
   "outputs": [],
   "source": [
    "# Use udf to define a row-at-a-time udf\n",
    "@udf('double')\n",
    "\n",
    "# Input/output are both a single double value\n",
    "def plus_one(v):\n",
    "      return v + 1"
   ]
  },
  {
   "cell_type": "code",
   "execution_count": 5,
   "metadata": {},
   "outputs": [
    {
     "name": "stdout",
     "output_type": "stream",
     "text": [
      "+--------+\n",
      "|count(v)|\n",
      "+--------+\n",
      "|10000000|\n",
      "+--------+\n",
      "\n",
      "+--------+\n",
      "|count(v)|\n",
      "+--------+\n",
      "|10000000|\n",
      "+--------+\n",
      "\n",
      "+--------+\n",
      "|count(v)|\n",
      "+--------+\n",
      "|10000000|\n",
      "+--------+\n",
      "\n",
      "+--------+\n",
      "|count(v)|\n",
      "+--------+\n",
      "|10000000|\n",
      "+--------+\n",
      "\n",
      "+--------+\n",
      "|count(v)|\n",
      "+--------+\n",
      "|10000000|\n",
      "+--------+\n",
      "\n",
      "+--------+\n",
      "|count(v)|\n",
      "+--------+\n",
      "|10000000|\n",
      "+--------+\n",
      "\n",
      "+--------+\n",
      "|count(v)|\n",
      "+--------+\n",
      "|10000000|\n",
      "+--------+\n",
      "\n",
      "+--------+\n",
      "|count(v)|\n",
      "+--------+\n",
      "|10000000|\n",
      "+--------+\n",
      "\n",
      "11.1 s ± 1.03 s per loop (mean ± std. dev. of 7 runs, 1 loop each)\n"
     ]
    }
   ],
   "source": [
    "%timeit df.withColumn('v', plus_one(df.v)).agg(count(col('v'))).show()"
   ]
  },
  {
   "cell_type": "markdown",
   "metadata": {},
   "source": [
    "Now let's use the very new Pandas UDFs.\n",
    "\n",
    "Note that there are two important requirements when using scalar pandas UDFs:\n",
    "\n",
    "* The input and output series must have the same size.\n",
    "* How a column is split into multiple pandas.Series is internal to Spark, and therefore the result of user-defined function must be independent of the splitting."
   ]
  },
  {
   "cell_type": "code",
   "execution_count": 6,
   "metadata": {},
   "outputs": [],
   "source": [
    "# Use pandas_udf to define a Pandas UDF\n",
    "@pandas_udf('double', PandasUDFType.SCALAR)\n",
    "# Input/output are both a pandas.Series of doubles\n",
    "\n",
    "def pandas_plus_one(v):\n",
    "    return v + 1"
   ]
  },
  {
   "cell_type": "code",
   "execution_count": 7,
   "metadata": {},
   "outputs": [
    {
     "name": "stdout",
     "output_type": "stream",
     "text": [
      "+--------+\n",
      "|count(v)|\n",
      "+--------+\n",
      "|10000000|\n",
      "+--------+\n",
      "\n",
      "+--------+\n",
      "|count(v)|\n",
      "+--------+\n",
      "|10000000|\n",
      "+--------+\n",
      "\n",
      "+--------+\n",
      "|count(v)|\n",
      "+--------+\n",
      "|10000000|\n",
      "+--------+\n",
      "\n",
      "+--------+\n",
      "|count(v)|\n",
      "+--------+\n",
      "|10000000|\n",
      "+--------+\n",
      "\n",
      "+--------+\n",
      "|count(v)|\n",
      "+--------+\n",
      "|10000000|\n",
      "+--------+\n",
      "\n",
      "+--------+\n",
      "|count(v)|\n",
      "+--------+\n",
      "|10000000|\n",
      "+--------+\n",
      "\n",
      "+--------+\n",
      "|count(v)|\n",
      "+--------+\n",
      "|10000000|\n",
      "+--------+\n",
      "\n",
      "+--------+\n",
      "|count(v)|\n",
      "+--------+\n",
      "|10000000|\n",
      "+--------+\n",
      "\n",
      "8.62 s ± 1.14 s per loop (mean ± std. dev. of 7 runs, 1 loop each)\n"
     ]
    }
   ],
   "source": [
    "%timeit df.withColumn('v', pandas_plus_one(df.v)).agg(count(col('v'))).show()"
   ]
  },
  {
   "cell_type": "code",
   "execution_count": 32,
   "metadata": {},
   "outputs": [
    {
     "data": {
      "image/png": "[encoded data removed]",
      "text/plain": [
       "<Figure size 432x288 with 1 Axes>"
      ]
     },
     "metadata": {},
     "output_type": "display_data"
    }
   ],
   "source": [
    "means = (11.1, 8.62)\n",
    "stds = (1.03, 1.14)\n",
    "\n",
    "ind = np.arange(2)\n",
    "\n",
    "udf, pandas_udf = plt.bar(ind, means, width=0.35, yerr=stds)\n",
    "plt.ylabel('Time of execution (s)')\n",
    "plt.xticks(ind, ('udf', 'pandas_udf'))\n",
    "pandas_udf.set_facecolor('g')"
   ]
  },
  {
   "cell_type": "markdown",
   "metadata": {},
   "source": [
    "## Cumulative probability"
   ]
  },
  {
   "cell_type": "code",
   "execution_count": 8,
   "metadata": {},
   "outputs": [],
   "source": [
    "@udf('double')\n",
    "def cdf(v):\n",
    "    return float(stats.norm.cdf(v))"
   ]
  },
  {
   "cell_type": "code",
   "execution_count": 9,
   "metadata": {
    "scrolled": false
   },
   "outputs": [
    {
     "name": "stdout",
     "output_type": "stream",
     "text": [
      "+-----------------------------+\n",
      "|count(cumulative_probability)|\n",
      "+-----------------------------+\n",
      "|                     10000000|\n",
      "+-----------------------------+\n",
      "\n",
      "+-----------------------------+\n",
      "|count(cumulative_probability)|\n",
      "+-----------------------------+\n",
      "|                     10000000|\n",
      "+-----------------------------+\n",
      "\n",
      "+-----------------------------+\n",
      "|count(cumulative_probability)|\n",
      "+-----------------------------+\n",
      "|                     10000000|\n",
      "+-----------------------------+\n",
      "\n",
      "+-----------------------------+\n",
      "|count(cumulative_probability)|\n",
      "+-----------------------------+\n",
      "|                     10000000|\n",
      "+-----------------------------+\n",
      "\n",
      "+-----------------------------+\n",
      "|count(cumulative_probability)|\n",
      "+-----------------------------+\n",
      "|                     10000000|\n",
      "+-----------------------------+\n",
      "\n",
      "+-----------------------------+\n",
      "|count(cumulative_probability)|\n",
      "+-----------------------------+\n",
      "|                     10000000|\n",
      "+-----------------------------+\n",
      "\n",
      "+-----------------------------+\n",
      "|count(cumulative_probability)|\n",
      "+-----------------------------+\n",
      "|                     10000000|\n",
      "+-----------------------------+\n",
      "\n",
      "+-----------------------------+\n",
      "|count(cumulative_probability)|\n",
      "+-----------------------------+\n",
      "|                     10000000|\n",
      "+-----------------------------+\n",
      "\n",
      "5min 1s ± 5.96 s per loop (mean ± std. dev. of 7 runs, 1 loop each)\n"
     ]
    }
   ],
   "source": [
    "%timeit df.withColumn('cumulative_probability', cdf(df.v)).agg(count(col('cumulative_probability'))).show()"
   ]
  },
  {
   "cell_type": "code",
   "execution_count": 10,
   "metadata": {},
   "outputs": [],
   "source": [
    "@pandas_udf('double')\n",
    "def pandas_cdf(v):\n",
    "    return pd.Series(stats.norm.cdf(v))"
   ]
  },
  {
   "cell_type": "code",
   "execution_count": 11,
   "metadata": {},
   "outputs": [
    {
     "name": "stdout",
     "output_type": "stream",
     "text": [
      "+-----------------------------+\n",
      "|count(cumulative_probability)|\n",
      "+-----------------------------+\n",
      "|                     10000000|\n",
      "+-----------------------------+\n",
      "\n",
      "+-----------------------------+\n",
      "|count(cumulative_probability)|\n",
      "+-----------------------------+\n",
      "|                     10000000|\n",
      "+-----------------------------+\n",
      "\n",
      "+-----------------------------+\n",
      "|count(cumulative_probability)|\n",
      "+-----------------------------+\n",
      "|                     10000000|\n",
      "+-----------------------------+\n",
      "\n",
      "+-----------------------------+\n",
      "|count(cumulative_probability)|\n",
      "+-----------------------------+\n",
      "|                     10000000|\n",
      "+-----------------------------+\n",
      "\n",
      "+-----------------------------+\n",
      "|count(cumulative_probability)|\n",
      "+-----------------------------+\n",
      "|                     10000000|\n",
      "+-----------------------------+\n",
      "\n",
      "+-----------------------------+\n",
      "|count(cumulative_probability)|\n",
      "+-----------------------------+\n",
      "|                     10000000|\n",
      "+-----------------------------+\n",
      "\n",
      "+-----------------------------+\n",
      "|count(cumulative_probability)|\n",
      "+-----------------------------+\n",
      "|                     10000000|\n",
      "+-----------------------------+\n",
      "\n",
      "+-----------------------------+\n",
      "|count(cumulative_probability)|\n",
      "+-----------------------------+\n",
      "|                     10000000|\n",
      "+-----------------------------+\n",
      "\n",
      "8.38 s ± 1.76 s per loop (mean ± std. dev. of 7 runs, 1 loop each)\n"
     ]
    }
   ],
   "source": [
    "%timeit df.withColumn('cumulative_probability', pandas_cdf(df.v)).agg(count(col('cumulative_probability'))).show()"
   ]
  },
  {
   "cell_type": "code",
   "execution_count": 33,
   "metadata": {},
   "outputs": [
    {
     "data": {
      "image/png": "[encoded data removed]",
      "text/plain": [
       "<Figure size 432x288 with 1 Axes>"
      ]
     },
     "metadata": {},
     "output_type": "display_data"
    }
   ],
   "source": [
    "means = (60 * 5 + 1, 8.38)\n",
    "stds = (5.96, 1.76)\n",
    "\n",
    "ind = np.arange(2)\n",
    "\n",
    "udf, pandas_udf = plt.bar(ind, means, width=0.35, yerr=stds)\n",
    "plt.ylabel('Time of execution (s)')\n",
    "plt.xticks(ind, ('udf', 'pandas_udf'))\n",
    "pandas_udf.set_facecolor('g')"
   ]
  },
  {
   "cell_type": "markdown",
   "metadata": {},
   "source": [
    "## Grouped Map Pandas UDFs\n",
    "\n",
    "This example shows a simple use of grouped map Pandas UDFs: subtracting mean from each value in the group."
   ]
  },
  {
   "cell_type": "code",
   "execution_count": 12,
   "metadata": {},
   "outputs": [],
   "source": [
    "@udf(ArrayType(df.schema))\n",
    "def substract_mean(rows):\n",
    "    vs = pd.Series([r.v for r in rows])\n",
    "    vs = vs - vs.mean()\n",
    "    return [Row(id=rows[i]['id'], v=float(vs[i])) for i in range(len(rows))]"
   ]
  },
  {
   "cell_type": "code",
   "execution_count": 13,
   "metadata": {
    "scrolled": true
   },
   "outputs": [
    {
     "name": "stdout",
     "output_type": "stream",
     "text": [
      "+--------+\n",
      "|count(v)|\n",
      "+--------+\n",
      "|10000000|\n",
      "+--------+\n",
      "\n",
      "+--------+\n",
      "|count(v)|\n",
      "+--------+\n",
      "|10000000|\n",
      "+--------+\n",
      "\n",
      "+--------+\n",
      "|count(v)|\n",
      "+--------+\n",
      "|10000000|\n",
      "+--------+\n",
      "\n",
      "+--------+\n",
      "|count(v)|\n",
      "+--------+\n",
      "|10000000|\n",
      "+--------+\n",
      "\n",
      "+--------+\n",
      "|count(v)|\n",
      "+--------+\n",
      "|10000000|\n",
      "+--------+\n",
      "\n",
      "+--------+\n",
      "|count(v)|\n",
      "+--------+\n",
      "|10000000|\n",
      "+--------+\n",
      "\n",
      "+--------+\n",
      "|count(v)|\n",
      "+--------+\n",
      "|10000000|\n",
      "+--------+\n",
      "\n",
      "+--------+\n",
      "|count(v)|\n",
      "+--------+\n",
      "|10000000|\n",
      "+--------+\n",
      "\n",
      "4min 45s ± 3.61 s per loop (mean ± std. dev. of 7 runs, 1 loop each)\n"
     ]
    }
   ],
   "source": [
    "%timeit df.groupby('id').agg(collect_list(struct(df['id'], df['v'])).alias('rows')).withColumn('new_rows', substract_mean(col('rows'))).withColumn('new_row', explode(col('new_rows'))).withColumn('id', col('new_row.id')).withColumn('v', col('new_row.v')).agg(count(col('v'))).show()"
   ]
  },
  {
   "cell_type": "code",
   "execution_count": 14,
   "metadata": {},
   "outputs": [],
   "source": [
    "@pandas_udf(df.schema, PandasUDFType.GROUPED_MAP)\n",
    "# Input/output are both a pandas.DataFrame\n",
    "def pandas_subtract_mean(pdf):\n",
    "    return pdf.assign(v=pdf.v - pdf.v.mean())"
   ]
  },
  {
   "cell_type": "code",
   "execution_count": 15,
   "metadata": {
    "scrolled": true
   },
   "outputs": [
    {
     "name": "stdout",
     "output_type": "stream",
     "text": [
      "+--------+\n",
      "|count(v)|\n",
      "+--------+\n",
      "|10000000|\n",
      "+--------+\n",
      "\n",
      "+--------+\n",
      "|count(v)|\n",
      "+--------+\n",
      "|10000000|\n",
      "+--------+\n",
      "\n",
      "+--------+\n",
      "|count(v)|\n",
      "+--------+\n",
      "|10000000|\n",
      "+--------+\n",
      "\n",
      "+--------+\n",
      "|count(v)|\n",
      "+--------+\n",
      "|10000000|\n",
      "+--------+\n",
      "\n",
      "+--------+\n",
      "|count(v)|\n",
      "+--------+\n",
      "|10000000|\n",
      "+--------+\n",
      "\n",
      "+--------+\n",
      "|count(v)|\n",
      "+--------+\n",
      "|10000000|\n",
      "+--------+\n",
      "\n",
      "+--------+\n",
      "|count(v)|\n",
      "+--------+\n",
      "|10000000|\n",
      "+--------+\n",
      "\n",
      "+--------+\n",
      "|count(v)|\n",
      "+--------+\n",
      "|10000000|\n",
      "+--------+\n",
      "\n",
      "3min 43s ± 1.72 s per loop (mean ± std. dev. of 7 runs, 1 loop each)\n"
     ]
    }
   ],
   "source": [
    "%timeit df.groupby('id').apply(pandas_subtract_mean).agg(count(col('v'))).show()"
   ]
  },
  {
   "cell_type": "code",
   "execution_count": 34,
   "metadata": {},
   "outputs": [
    {
     "data": {
      "image/png": "[encoded data removed]",
      "text/plain": [
       "<Figure size 432x288 with 1 Axes>"
      ]
     },
     "metadata": {},
     "output_type": "display_data"
    }
   ],
   "source": [
    "means = (60 * 4 + 45, 60 * 3 + 43)\n",
    "stds = (3.61, 1.72)\n",
    "\n",
    "ind = np.arange(2)\n",
    "\n",
    "udf, pandas_udf = plt.bar(ind, means, width=0.35, yerr=stds)\n",
    "plt.ylabel('Time of execution (s)')\n",
    "plt.xticks(ind, ('udf', 'pandas_udf'))\n",
    "pandas_udf.set_facecolor('g')"
   ]
  },
  {
   "cell_type": "markdown",
   "metadata": {},
   "source": [
    "## Going further : PySpark Usage Guide for Pandas with Apache Arrow\n",
    "\n",
    "There is a [link](https://spark.apache.org/docs/2.3.0/sql-programming-guide.html#pyspark-usage-guide-for-pandas-with-apache-arrow) in the documentation about this."
   ]
  }
 ],
 "metadata": {
  "kernelspec": {
   "display_name": "Python 3",
   "language": "python",
   "name": "python3"
  },
  "language_info": {
   "codemirror_mode": {
    "name": "ipython",
    "version": 3
   },
   "file_extension": ".py",
   "mimetype": "text/x-python",
   "name": "python",
   "nbconvert_exporter": "python",
   "pygments_lexer": "ipython3",
   "version": "3.6.5"
  }
 },
 "nbformat": 4,
 "nbformat_minor": 2
}
